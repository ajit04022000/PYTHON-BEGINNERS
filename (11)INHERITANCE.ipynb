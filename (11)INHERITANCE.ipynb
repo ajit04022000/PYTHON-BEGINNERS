{
  "nbformat": 4,
  "nbformat_minor": 0,
  "metadata": {
    "colab": {
      "name": "(11)INHERITANCE.ipynb",
      "provenance": [],
      "authorship_tag": "ABX9TyPOE6hHgUNQ9MxZIdJszKG1",
      "include_colab_link": true
    },
    "kernelspec": {
      "name": "python3",
      "display_name": "Python 3"
    },
    "language_info": {
      "name": "python"
    }
  },
  "cells": [
    {
      "cell_type": "markdown",
      "metadata": {
        "id": "view-in-github",
        "colab_type": "text"
      },
      "source": [
        "<a href=\"https://colab.research.google.com/github/ajit04022000/python_begginers_codewith_ajit/blob/main/(11)INHERITANCE.ipynb\" target=\"_parent\"><img src=\"https://colab.research.google.com/assets/colab-badge.svg\" alt=\"Open In Colab\"/></a>"
      ]
    },
    {
      "cell_type": "code",
      "execution_count": null,
      "metadata": {
        "id": "jfzZaErXQKuE",
        "colab": {
          "base_uri": "https://localhost:8080/"
        },
        "outputId": "5a1b22e0-8302-4452-c422-591781b7b953"
      },
      "outputs": [
        {
          "output_type": "stream",
          "name": "stdout",
          "text": [
            "this is an employee\n",
            "this is a programmer\n",
            "Google\n"
          ]
        }
      ],
      "source": [
        "class Employee:\n",
        "  company = \"Google\"\n",
        "\n",
        "  def showDetails(self):\n",
        "    print(\"this is an employee\")\n",
        "\n",
        "class Programmer(Employee):\n",
        "  language = 'python'\n",
        "\n",
        "  def getLanguage(self):\n",
        "    print(f'the language is {self.language}')\n",
        "\n",
        "  def getDatials(self):\n",
        "    print('this is a programmer')\n",
        "\n",
        "\n",
        "\n",
        "e = Employee()\n",
        "e.showDetails()\n",
        "\n",
        "p = Programmer()\n",
        "p.getDatials()\n",
        "print(p.company)"
      ]
    },
    {
      "cell_type": "code",
      "source": [
        "# MULTIPLE INHERITANCE\n",
        "class Employee:\n",
        "  company = \"Visa\"\n",
        "  eCode = 120\n",
        "\n",
        "class Freelancer:\n",
        "  company = \"Fiver\"\n",
        "  level = 0\n",
        "\n",
        "  def upgradeLevel(self):\n",
        "    self.level = self.level+1\n",
        "\n",
        "class Programmer (Employee, Freelancer):\n",
        "  name = 'Rohit'\n",
        "\n",
        "p = Programmer()\n",
        "p.upgradeLevel()\n",
        "print(p.company)\n",
        "\n",
        "\n",
        "\n"
      ],
      "metadata": {
        "colab": {
          "base_uri": "https://localhost:8080/"
        },
        "id": "ToL4kpeSVhuT",
        "outputId": "83516375-41e9-4a6a-e064-416f949b2d8b"
      },
      "execution_count": null,
      "outputs": [
        {
          "output_type": "stream",
          "name": "stdout",
          "text": [
            "Visa\n"
          ]
        }
      ]
    },
    {
      "cell_type": "code",
      "source": [
        "# MULTI LEVEL INHERITANCE:\n",
        "class person:\n",
        "  country = 'india'\n",
        "\n",
        "  def takeBreak(self):\n",
        "    print(\"i am breathing..\")\n",
        "\n",
        "class Employee(person):\n",
        "  company = 'Honda'\n",
        "\n",
        "  def getSalary(self):\n",
        "    print(f'Salary is {self.salary}')\n",
        "\n",
        "\n",
        "  def takeBreak(self):\n",
        "    print('i am an employee so i am luckily breathing..') \n",
        "\n",
        "class Programmer(Employee):\n",
        "  company = 'Fiverr'\n",
        "\n",
        "  def getSalary(self):\n",
        "    print(f'No salary to programmers')\n",
        "\n",
        "  def takeBreak(self):\n",
        "    print('i am a programmer so i am breathing..')\n",
        "\n",
        "p = person()\n",
        "p.takeBreak()\n",
        "\n",
        "e = Employee()\n",
        "e.takeBreak()\n",
        "\n",
        "pr = Programmer()\n",
        "pr.takeBreak()"
      ],
      "metadata": {
        "colab": {
          "base_uri": "https://localhost:8080/"
        },
        "id": "iHqNjf8nYWLH",
        "outputId": "854936c7-136e-46c1-a052-6b01753f4124"
      },
      "execution_count": null,
      "outputs": [
        {
          "output_type": "stream",
          "name": "stdout",
          "text": [
            "i am breathing..\n",
            "i am an employee so i am luckily breathing..\n",
            "i am a programmer so i am breathing..\n"
          ]
        }
      ]
    },
    {
      "cell_type": "code",
      "source": [
        "#SUPER(). METHOD\n",
        "class person:\n",
        "  country = 'india'\n",
        "\n",
        "  def takeBreak(self):\n",
        "    print(\"i am breathing..\")\n",
        "\n",
        "class Employee(person):\n",
        "  company = 'Honda'\n",
        "\n",
        "  def getSalary(self):\n",
        "    print(f'Salary is {self.salary}')\n",
        "\n",
        "\n",
        "  def takeBreak(self):\n",
        "    print('i am an employee so i am luckily breathing..') \n",
        "\n",
        "class Programmer(Employee):\n",
        "  company = 'Fiverr'\n",
        "\n",
        "  def getSalary(self):\n",
        "    print(f'No salary to programmers')\n",
        "\n",
        "  def takeBreak(self):\n",
        "      super().takeBreak()                              # Hear is the comand is running\n",
        "      print('i am a programmer so i am breathing..')\n",
        "\n",
        "p = person()\n",
        "p.takeBreak()\n",
        "\n",
        "e = Employee()\n",
        "e.takeBreak()\n",
        "\n",
        "pr = Programmer()\n",
        "pr.takeBreak()"
      ],
      "metadata": {
        "colab": {
          "base_uri": "https://localhost:8080/"
        },
        "id": "674NC0oNbGhW",
        "outputId": "a86460ab-1817-4099-cb08-acd772cd84e7"
      },
      "execution_count": null,
      "outputs": [
        {
          "output_type": "stream",
          "name": "stdout",
          "text": [
            "i am breathing..\n",
            "i am an employee so i am luckily breathing..\n",
            "i am an employee so i am luckily breathing..\n",
            "i am a programmer so i am breathing..\n"
          ]
        }
      ]
    },
    {
      "cell_type": "markdown",
      "source": [
        "# practice copy"
      ],
      "metadata": {
        "id": "jB9BOziHoszl"
      }
    },
    {
      "cell_type": "code",
      "source": [
        "# \n",
        "class C2dVac:\n",
        "  def __init__ (self, i , j):\n",
        "    self.icap = i\n",
        "    self.jcap = j\n",
        "\n",
        "  def __str__(self):\n",
        "    return f'{self.icap}i + {self.jcap}j'\n",
        "\n",
        "class C3dVac:\n",
        "  def __init__(self, i , j , k):\n",
        "    super().__init__(i,j)\n",
        "    self.kcap = k\n",
        "\n",
        "    def __str__(self):\n",
        "      return f'{self.icap}i + {self.jcap}j + {self.kcap}k'\n",
        "    \n",
        "\n",
        "v2d = C2dVac(1,3)\n",
        "v3d = C2dVac\n",
        "print(v2d)\n",
        "print(v3d)\n"
      ],
      "metadata": {
        "colab": {
          "base_uri": "https://localhost:8080/"
        },
        "id": "kd8WPL6Ec5JB",
        "outputId": "221f5cbb-093c-4ffa-9820-e67d8771bea5"
      },
      "execution_count": null,
      "outputs": [
        {
          "output_type": "stream",
          "name": "stdout",
          "text": [
            "1i + 3j\n",
            "<class '__main__.C2dVac'>\n"
          ]
        }
      ]
    },
    {
      "cell_type": "code",
      "source": [
        "a =dict()\n",
        "type(a)"
      ],
      "metadata": {
        "colab": {
          "base_uri": "https://localhost:8080/"
        },
        "id": "X8SjVjC6nlh_",
        "outputId": "7b50a60f-9b3e-485d-ca36-8919fb9c4d9b"
      },
      "execution_count": null,
      "outputs": [
        {
          "output_type": "execute_result",
          "data": {
            "text/plain": [
              "dict"
            ]
          },
          "metadata": {},
          "execution_count": 32
        }
      ]
    },
    {
      "cell_type": "code",
      "source": [
        ""
      ],
      "metadata": {
        "id": "eKy8Xa_c4sIw"
      },
      "execution_count": null,
      "outputs": []
    }
  ]
}