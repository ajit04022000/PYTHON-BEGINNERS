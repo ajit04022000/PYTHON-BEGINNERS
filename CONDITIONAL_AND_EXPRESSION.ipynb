{
  "nbformat": 4,
  "nbformat_minor": 0,
  "metadata": {
    "colab": {
      "name": "CONDITIONAL AND EXPRESSION.ipynb",
      "provenance": [],
      "authorship_tag": "ABX9TyMiTi1kj/kpzqzc5y06RcS8",
      "include_colab_link": true
    },
    "kernelspec": {
      "name": "python3",
      "display_name": "Python 3"
    },
    "language_info": {
      "name": "python"
    }
  },
  "cells": [
    {
      "cell_type": "markdown",
      "metadata": {
        "id": "view-in-github",
        "colab_type": "text"
      },
      "source": [
        "<a href=\"https://colab.research.google.com/github/ajit04022000/python_begginers_codewith_ajit/blob/main/CONDITIONAL_AND_EXPRESSION.ipynb\" target=\"_parent\"><img src=\"https://colab.research.google.com/assets/colab-badge.svg\" alt=\"Open In Colab\"/></a>"
      ]
    },
    {
      "cell_type": "code",
      "execution_count": null,
      "metadata": {
        "colab": {
          "base_uri": "https://localhost:8080/"
        },
        "id": "NLAlHGXJn2Ut",
        "outputId": "34122ab5-d501-4517-fb39-2519ba21c496"
      },
      "outputs": [
        {
          "name": "stdout",
          "output_type": "stream",
          "text": [
            "enter your age10\n"
          ]
        }
      ],
      "source": [
        "age = int(input('enter your age'))"
      ]
    },
    {
      "cell_type": "code",
      "source": [
        "if age== 18:\n",
        "  print(\"yes you are alligable\")\n",
        "else:\n",
        "  print('you are not alligable for this')"
      ],
      "metadata": {
        "colab": {
          "base_uri": "https://localhost:8080/"
        },
        "id": "Vk1McJpfoFN4",
        "outputId": "a0d45944-90dd-4116-8550-dc77262e646a"
      },
      "execution_count": null,
      "outputs": [
        {
          "output_type": "stream",
          "name": "stdout",
          "text": [
            "you are not alligable for this\n"
          ]
        }
      ]
    },
    {
      "cell_type": "code",
      "source": [
        "age = 18"
      ],
      "metadata": {
        "id": "WYnNtq17oath"
      },
      "execution_count": null,
      "outputs": []
    },
    {
      "cell_type": "code",
      "source": [
        "#write a progrram to find the greatest of four no enterd by the user"
      ],
      "metadata": {
        "id": "GRnpmG5RouCa"
      },
      "execution_count": null,
      "outputs": []
    },
    {
      "cell_type": "code",
      "source": [
        "num1 = int(input(\"enter the 1st no\"))\n",
        "num2 = int(input(\"enter the 2st no\"))\n",
        "num3 = int(input(\"enter the 3st no\"))\n",
        "num4 = int(input(\"enter the 4st no\"))\n"
      ],
      "metadata": {
        "colab": {
          "base_uri": "https://localhost:8080/"
        },
        "id": "PAcUBOPTpgYr",
        "outputId": "f2d64e7c-9ef4-4d2c-c499-0ab538f77a29"
      },
      "execution_count": null,
      "outputs": [
        {
          "name": "stdout",
          "output_type": "stream",
          "text": [
            "enter the 1st no12\n",
            "enter the 2st no2\n",
            "enter the 3st no64\n",
            "enter the 4st no98\n"
          ]
        }
      ]
    },
    {
      "cell_type": "code",
      "source": [
        "if (num1>num4):\n",
        "  f1 = num1\n",
        "else:\n",
        "  f1 = num4\n",
        "\n",
        "if (num2>num3):\n",
        "  f2 = num1\n",
        "else:\n",
        "  f2 = num4\n",
        "\n",
        "if (f1>f2):\n",
        "  print(str(f2),\"is greatest\")\n",
        "else:\n",
        "  print(str(f1),\"is greatest\")\n"
      ],
      "metadata": {
        "colab": {
          "base_uri": "https://localhost:8080/"
        },
        "id": "qH6V4YRVpxEI",
        "outputId": "26e0465f-1f83-4a7c-de68-b02788848090"
      },
      "execution_count": null,
      "outputs": [
        {
          "output_type": "stream",
          "name": "stdout",
          "text": [
            "98 is greatest\n"
          ]
        }
      ]
    },
    {
      "cell_type": "code",
      "source": [
        ""
      ],
      "metadata": {
        "id": "x-NZyPgIs2qm"
      },
      "execution_count": null,
      "outputs": []
    },
    {
      "cell_type": "code",
      "source": [
        "#another question"
      ],
      "metadata": {
        "id": "7a7DizUStQcj"
      },
      "execution_count": null,
      "outputs": []
    },
    {
      "cell_type": "code",
      "source": [
        "sub1 = int(input(\"enter your mark\"))\n",
        "sub2 = int(input(\"enter your mark\"))\n",
        "sub3 = int(input(\"enter your mark\"))"
      ],
      "metadata": {
        "colab": {
          "base_uri": "https://localhost:8080/"
        },
        "id": "akx6vdFptQRT",
        "outputId": "80cdfd53-64f2-4b38-9b61-a882681f6334"
      },
      "execution_count": null,
      "outputs": [
        {
          "name": "stdout",
          "output_type": "stream",
          "text": [
            "enter your mark1\n",
            "enter your mark55\n",
            "enter your mark66\n"
          ]
        }
      ]
    },
    {
      "cell_type": "code",
      "source": [
        "if  (sub1<33 or sub2<33 or sub3< 33):\n",
        "  print (\"you are fail because you have less then 33% in one of the subject\")\n",
        "\n",
        "elif (sub1 + sub2 + sub3 )/3 <40:\n",
        "  print(\"you are fail due to total percentage less then 40% \")\n",
        "\n",
        "else:\n",
        "  print(\"congratulation ! , you passed the exam\")\n",
        "\n"
      ],
      "metadata": {
        "colab": {
          "base_uri": "https://localhost:8080/"
        },
        "id": "bHhG-3Aytekg",
        "outputId": "957f5726-49c9-45eb-d36e-a50fa85c4fa8"
      },
      "execution_count": null,
      "outputs": [
        {
          "output_type": "stream",
          "name": "stdout",
          "text": [
            "you are fail because you have less then 33% in one of the subject\n"
          ]
        }
      ]
    },
    {
      "cell_type": "code",
      "source": [
        ""
      ],
      "metadata": {
        "id": "BCD6s5gSvxjg"
      },
      "execution_count": null,
      "outputs": []
    },
    {
      "cell_type": "code",
      "source": [
        "#anoter problem spame comment"
      ],
      "metadata": {
        "id": "2jBrR2ySwFO1"
      },
      "execution_count": null,
      "outputs": []
    },
    {
      "cell_type": "code",
      "source": [
        "text =input('enter the text')"
      ],
      "metadata": {
        "colab": {
          "base_uri": "https://localhost:8080/"
        },
        "id": "ulU_svMfw3Sd",
        "outputId": "069a5c72-99e8-4c36-fb79-62e1b651e28a"
      },
      "execution_count": null,
      "outputs": [
        {
          "name": "stdout",
          "output_type": "stream",
          "text": [
            "enter the textbuy this\n"
          ]
        }
      ]
    },
    {
      "cell_type": "code",
      "source": [
        "spam = False"
      ],
      "metadata": {
        "id": "F8fpSXogxGnT"
      },
      "execution_count": null,
      "outputs": []
    },
    {
      "cell_type": "code",
      "source": [
        "if (\"make lot of money\" in text):\n",
        "  spam = True\n",
        "elif('buy now' in text):\n",
        "  spam = True\n",
        "elif('subscribe this' in text):\n",
        "  spam = True\n",
        "elif('click this' in text):\n",
        "  spam = True\n",
        "else:\n",
        "  spam = False\n"
      ],
      "metadata": {
        "id": "TFvNKEE2wkhP"
      },
      "execution_count": null,
      "outputs": []
    },
    {
      "cell_type": "code",
      "source": [
        "if (spam):\n",
        "  print(\"this is a spam add\")\n",
        "else:\n",
        "  print(\"this text is not spam\")"
      ],
      "metadata": {
        "colab": {
          "base_uri": "https://localhost:8080/"
        },
        "id": "nUHlU-lex-1Y",
        "outputId": "188530e0-3c7e-4dda-9907-ce34ab3b3a48"
      },
      "execution_count": null,
      "outputs": [
        {
          "output_type": "stream",
          "name": "stdout",
          "text": [
            "this text is not spam\n"
          ]
        }
      ]
    },
    {
      "cell_type": "code",
      "source": [
        "# name is present in a list or not"
      ],
      "metadata": {
        "id": "biT6s1u3yT4P"
      },
      "execution_count": null,
      "outputs": []
    },
    {
      "cell_type": "code",
      "source": [
        "list_of_name = ['ajit','sumit','amit','sanjeet','sushree']"
      ],
      "metadata": {
        "id": "SdSUl9z90boX"
      },
      "execution_count": null,
      "outputs": []
    },
    {
      "cell_type": "code",
      "source": [
        "name = input('enter the name')"
      ],
      "metadata": {
        "colab": {
          "base_uri": "https://localhost:8080/"
        },
        "id": "4u9BPE7Z0HCO",
        "outputId": "abcf5a06-7b41-4466-873d-12652bb27a9d"
      },
      "execution_count": null,
      "outputs": [
        {
          "name": "stdout",
          "output_type": "stream",
          "text": [
            "enter the nameajit\n"
          ]
        }
      ]
    },
    {
      "cell_type": "code",
      "source": [
        "if name in list_of_name:\n",
        "  print('this person is present on our group')\n",
        "else:\n",
        "  print('this person is not found')"
      ],
      "metadata": {
        "colab": {
          "base_uri": "https://localhost:8080/"
        },
        "id": "d1VpA6ET0NVu",
        "outputId": "c7008852-6731-45b8-a1ba-d486c2f60be1"
      },
      "execution_count": null,
      "outputs": [
        {
          "output_type": "stream",
          "name": "stdout",
          "text": [
            "this person is present on our group\n"
          ]
        }
      ]
    },
    {
      "cell_type": "code",
      "source": [
        ""
      ],
      "metadata": {
        "id": "PRQ47lPC03ZQ"
      },
      "execution_count": null,
      "outputs": []
    },
    {
      "cell_type": "code",
      "source": [
        "#calculating the grade of the students"
      ],
      "metadata": {
        "id": "RfM5tp3G1GX5"
      },
      "execution_count": null,
      "outputs": []
    },
    {
      "cell_type": "code",
      "source": [
        "mark = int(input(\"enter your marks\"))"
      ],
      "metadata": {
        "colab": {
          "base_uri": "https://localhost:8080/"
        },
        "id": "AirL9_vc1RA5",
        "outputId": "204b256b-19df-4b96-ff2e-e0266267410b"
      },
      "execution_count": null,
      "outputs": [
        {
          "name": "stdout",
          "output_type": "stream",
          "text": [
            "enter your marks11\n"
          ]
        }
      ]
    },
    {
      "cell_type": "code",
      "source": [
        "if mark>=90:\n",
        "  grade = \"ex\"\n",
        "elif mark>=80:\n",
        "  grade = 'A'\n",
        "elif mark>=70:\n",
        "  grade = 'b'\n",
        "elif mark>=60:\n",
        "  grade = 'c'\n",
        "elif mark>=50:\n",
        "  grade = 'd'\n",
        "else :\n",
        "  grade = 'f'\n"
      ],
      "metadata": {
        "id": "TckD2FL81WvX"
      },
      "execution_count": null,
      "outputs": []
    },
    {
      "cell_type": "code",
      "source": [
        "print(\"your grade is\", grade)"
      ],
      "metadata": {
        "colab": {
          "base_uri": "https://localhost:8080/"
        },
        "id": "kVokDyf-3LUK",
        "outputId": "74648c71-b879-431f-c933-e83cc8a73dac"
      },
      "execution_count": null,
      "outputs": [
        {
          "output_type": "stream",
          "name": "stdout",
          "text": [
            "your grade is f\n"
          ]
        }
      ]
    },
    {
      "cell_type": "code",
      "source": [
        ""
      ],
      "metadata": {
        "id": "RbZhO2053jyH"
      },
      "execution_count": null,
      "outputs": []
    },
    {
      "cell_type": "code",
      "source": [
        "#find out the post is taking about harry or not"
      ],
      "metadata": {
        "id": "HsTQyOEs3tZ8"
      },
      "execution_count": null,
      "outputs": []
    },
    {
      "cell_type": "code",
      "source": [
        "post = input(\"write the post\")"
      ],
      "metadata": {
        "colab": {
          "base_uri": "https://localhost:8080/"
        },
        "id": "oZyMPgl133cz",
        "outputId": "2bfbec1d-525b-40ce-fd72-bafcbd717a2f"
      },
      "execution_count": null,
      "outputs": [
        {
          "name": "stdout",
          "output_type": "stream",
          "text": [
            "write the postharrY\n"
          ]
        }
      ]
    },
    {
      "cell_type": "code",
      "source": [
        "if (\"HARRY\" in post):\n",
        "  post = True\n",
        "elif (\"Harry\" in post):\n",
        "  post = True\n",
        "elif ('HArry' in post):\n",
        "  post = True\n",
        "else:\n",
        "  post = False"
      ],
      "metadata": {
        "id": "lp0VZcb24RGT"
      },
      "execution_count": null,
      "outputs": []
    },
    {
      "cell_type": "code",
      "source": [
        "if (post):\n",
        "  print(\"the is consist\")\n",
        "else:\n",
        "  print('this is khela')"
      ],
      "metadata": {
        "colab": {
          "base_uri": "https://localhost:8080/"
        },
        "id": "QUKJi5Yh5Kq5",
        "outputId": "d2d2c540-9d86-484f-c3d0-1c0bec3e14a1"
      },
      "execution_count": null,
      "outputs": [
        {
          "output_type": "stream",
          "name": "stdout",
          "text": [
            "this is khela\n"
          ]
        }
      ]
    },
    {
      "cell_type": "code",
      "source": [
        ""
      ],
      "metadata": {
        "id": "jhgHkrQA5wUh"
      },
      "execution_count": null,
      "outputs": []
    }
  ]
}