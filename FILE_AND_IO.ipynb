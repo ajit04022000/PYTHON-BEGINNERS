{
  "nbformat": 4,
  "nbformat_minor": 0,
  "metadata": {
    "colab": {
      "name": "FILE AND IO.ipynb",
      "provenance": [],
      "authorship_tag": "ABX9TyOd8tcjkLk1QELg1WlPN5KL",
      "include_colab_link": true
    },
    "kernelspec": {
      "name": "python3",
      "display_name": "Python 3"
    },
    "language_info": {
      "name": "python"
    }
  },
  "cells": [
    {
      "cell_type": "markdown",
      "metadata": {
        "id": "view-in-github",
        "colab_type": "text"
      },
      "source": [
        "<a href=\"https://colab.research.google.com/github/ajit04022000/PYTHON-BEGINNERS/blob/main/FILE_AND_IO.ipynb\" target=\"_parent\"><img src=\"https://colab.research.google.com/assets/colab-badge.svg\" alt=\"Open In Colab\"/></a>"
      ]
    },
    {
      "cell_type": "code",
      "execution_count": null,
      "metadata": {
        "id": "dV8OEo5OZX3Y"
      },
      "outputs": [],
      "source": [
        "f = open(\"SNAKE WATER GUN.ipynb\",'r')\n",
        "data = f.read()          #read function to read the line\n",
        "print(data)\n",
        "f.close()                #close function is necessry to close a file"
      ]
    },
    {
      "cell_type": "code",
      "source": [
        "f = ('sample.txt' , 'r')      #if we never menton to do any thing after the file neme then by defult the file contain the 'read' fuction\n",
        "data = f.read()\n",
        "print(data)\n",
        "f.close\n"
      ],
      "metadata": {
        "id": "1XZVJVd3Zx7O"
      },
      "execution_count": null,
      "outputs": []
    },
    {
      "cell_type": "code",
      "source": [
        "f = ('sample.txt','r')\n",
        "data = f.read(5)        #if we mention anything in bracket then thay take the value as an argument and print that much\n",
        "print(data)\n",
        "f.close()\n"
      ],
      "metadata": {
        "id": "EK-0SnjklTwX"
      },
      "execution_count": null,
      "outputs": []
    },
    {
      "cell_type": "code",
      "source": [
        "f =('sample.txt', 'r')\n",
        "data = f.readline()     #by the use of readline we only read only one line \n",
        "print(data)\n",
        "f.close()"
      ],
      "metadata": {
        "id": "4o3SjrrylyWX"
      },
      "execution_count": null,
      "outputs": []
    },
    {
      "cell_type": "code",
      "source": [
        "f = ('sample.txt', 'w')     #w is write method\n",
        "data = f.write('in this bracket i write any thing that is save in another.txt file')\n",
        "print(data)\n",
        "f.close()"
      ],
      "metadata": {
        "id": "6hX0Y921m_Um"
      },
      "execution_count": null,
      "outputs": []
    },
    {
      "cell_type": "code",
      "source": [
        ""
      ],
      "metadata": {
        "id": "gR4B_BffmHuJ"
      },
      "execution_count": null,
      "outputs": []
    },
    {
      "cell_type": "markdown",
      "source": [
        "#with function \n",
        "by the use of with function we never write the close () \n",
        "so this is the best way to open and close the file automatically is the with statement.\n"
      ],
      "metadata": {
        "id": "GuvL0h7Xov0G"
      }
    },
    {
      "cell_type": "code",
      "source": [
        "with open('sample.txt','r') as f:     #hear f is the variable\n",
        "  f.read()"
      ],
      "metadata": {
        "id": "7kjRZXowovd-"
      },
      "execution_count": null,
      "outputs": []
    },
    {
      "cell_type": "markdown",
      "source": [
        "#PRACTICE SET"
      ],
      "metadata": {
        "id": "KfcOuYcnpotZ"
      }
    },
    {
      "cell_type": "code",
      "source": [
        "#Q1-- find twinkel is present or not\n",
        "with open('twinkel.txt' 'r') as f:\n",
        "  t = f.read()\n",
        "  if \"twinkel\" in t:\n",
        "    print('twinkel is present')\n",
        "  else:\n",
        "    print('twinkle is not present')\n",
        "    \n"
      ],
      "metadata": {
        "id": "YVG7M11Vps6Z"
      },
      "execution_count": null,
      "outputs": []
    },
    {
      "cell_type": "code",
      "source": [
        "#Q2----GAME FUCTION\n"
      ],
      "metadata": {
        "id": "gaJDcACSqj7l"
      },
      "execution_count": null,
      "outputs": []
    },
    {
      "cell_type": "code",
      "source": [
        ""
      ],
      "metadata": {
        "id": "kYgKVMzXbkqb"
      },
      "execution_count": null,
      "outputs": []
    }
  ]
}