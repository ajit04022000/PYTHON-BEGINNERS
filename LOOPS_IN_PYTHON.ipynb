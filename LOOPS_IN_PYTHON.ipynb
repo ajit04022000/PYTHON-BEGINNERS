{
  "nbformat": 4,
  "nbformat_minor": 0,
  "metadata": {
    "colab": {
      "name": "LOOPS IN PYTHON.ipynb",
      "provenance": [],
      "authorship_tag": "ABX9TyPkuqEky8rS2OP6dzJXzUIV",
      "include_colab_link": true
    },
    "kernelspec": {
      "name": "python3",
      "display_name": "Python 3"
    },
    "language_info": {
      "name": "python"
    }
  },
  "cells": [
    {
      "cell_type": "markdown",
      "metadata": {
        "id": "view-in-github",
        "colab_type": "text"
      },
      "source": [
        "<a href=\"https://colab.research.google.com/github/ajit04022000/python_begginers_codewith_ajit/blob/main/LOOPS_IN_PYTHON.ipynb\" target=\"_parent\"><img src=\"https://colab.research.google.com/assets/colab-badge.svg\" alt=\"Open In Colab\"/></a>"
      ]
    },
    {
      "cell_type": "markdown",
      "source": [
        "#iwhile loop"
      ],
      "metadata": {
        "id": "cSeZwnx77PcO"
      }
    },
    {
      "cell_type": "code",
      "source": [
        ""
      ],
      "metadata": {
        "id": "msx3D6kJ7PGB"
      },
      "execution_count": null,
      "outputs": []
    },
    {
      "cell_type": "code",
      "source": [
        ""
      ],
      "metadata": {
        "id": "wYTbKaqx3nEF"
      },
      "execution_count": null,
      "outputs": []
    },
    {
      "cell_type": "code",
      "source": [
        "i = 0\n",
        "while i<10:\n",
        "  print(\"this the no \" + str(i+1))\n",
        "  i = i+1\n",
        "print(\"done\")"
      ],
      "metadata": {
        "colab": {
          "base_uri": "https://localhost:8080/"
        },
        "id": "_OS-t-Uk3nAm",
        "outputId": "3a879166-a7ab-4389-a36d-be16ea921cd3"
      },
      "execution_count": null,
      "outputs": [
        {
          "output_type": "stream",
          "name": "stdout",
          "text": [
            "this the no 1\n",
            "this the no 2\n",
            "this the no 3\n",
            "this the no 4\n",
            "this the no 5\n",
            "this the no 6\n",
            "this the no 7\n",
            "this the no 8\n",
            "this the no 9\n",
            "this the no 10\n",
            "done\n"
          ]
        }
      ]
    },
    {
      "cell_type": "code",
      "source": [
        "#quick quiz\n",
        "i = 0\n",
        "while i<=50:\n",
        "  print(i)\n",
        "  i = i+1"
      ],
      "metadata": {
        "colab": {
          "base_uri": "https://localhost:8080/"
        },
        "id": "esxHjiQe3m90",
        "outputId": "b919a205-fd52-4249-d271-e57a8433638e"
      },
      "execution_count": null,
      "outputs": [
        {
          "output_type": "stream",
          "name": "stdout",
          "text": [
            "1\n",
            "2\n",
            "3\n",
            "4\n",
            "5\n",
            "6\n",
            "7\n",
            "8\n",
            "9\n",
            "10\n",
            "11\n",
            "12\n",
            "13\n",
            "14\n",
            "15\n",
            "16\n",
            "17\n",
            "18\n",
            "19\n",
            "20\n",
            "21\n",
            "22\n",
            "23\n",
            "24\n",
            "25\n",
            "26\n",
            "27\n",
            "28\n",
            "29\n",
            "30\n",
            "31\n",
            "32\n",
            "33\n",
            "34\n",
            "35\n",
            "36\n",
            "37\n",
            "38\n",
            "39\n",
            "40\n",
            "41\n",
            "42\n",
            "43\n",
            "44\n",
            "45\n",
            "46\n",
            "47\n",
            "48\n",
            "49\n",
            "50\n"
          ]
        }
      ]
    },
    {
      "cell_type": "code",
      "source": [
        "#quick quiz write a program to print the context of a list using loop.\n",
        "i =0\n",
        "fruits = ['banana','watermellon','graphes','mangoes']\n",
        "while i < len(fruits):\n",
        "  print(fruits[i])\n",
        "  i = i+1\n",
        "\n"
      ],
      "metadata": {
        "colab": {
          "base_uri": "https://localhost:8080/"
        },
        "id": "_uQyXQUK3m6_",
        "outputId": "0ecd2cbc-7ac1-4008-b149-a1987d5e4089"
      },
      "execution_count": null,
      "outputs": [
        {
          "output_type": "stream",
          "name": "stdout",
          "text": [
            "banana\n",
            "watermellon\n",
            "graphes\n",
            "mangoes\n"
          ]
        }
      ]
    },
    {
      "cell_type": "markdown",
      "source": [
        "#for loop"
      ],
      "metadata": {
        "id": "E9ffEKxd7JjV"
      }
    },
    {
      "cell_type": "code",
      "source": [
        "fruits = ['banana','watermellon','graphes','mangoes']\n",
        "for fruit in fruits:\n",
        "  print(fruit)"
      ],
      "metadata": {
        "colab": {
          "base_uri": "https://localhost:8080/"
        },
        "id": "njU8QgwW3m35",
        "outputId": "51501904-2aff-41e3-b61c-3dde49444851"
      },
      "execution_count": null,
      "outputs": [
        {
          "output_type": "stream",
          "name": "stdout",
          "text": [
            "banana\n",
            "watermellon\n",
            "graphes\n",
            "mangoes\n"
          ]
        }
      ]
    },
    {
      "cell_type": "markdown",
      "source": [
        "range function\n"
      ],
      "metadata": {
        "id": "FMnxBJV7ExN9"
      }
    },
    {
      "cell_type": "code",
      "source": [
        "for i in range(1,8):\n",
        "  print(i)"
      ],
      "metadata": {
        "colab": {
          "base_uri": "https://localhost:8080/"
        },
        "id": "zGXi2YNG3m1F",
        "outputId": "0f5e43d7-660c-4bc6-ed81-092535726464"
      },
      "execution_count": null,
      "outputs": [
        {
          "output_type": "stream",
          "name": "stdout",
          "text": [
            "1\n",
            "2\n",
            "3\n",
            "4\n",
            "5\n",
            "6\n",
            "7\n"
          ]
        }
      ]
    },
    {
      "cell_type": "markdown",
      "source": [
        "for loop with else"
      ],
      "metadata": {
        "id": "dav0hGpBFe0P"
      }
    },
    {
      "cell_type": "code",
      "source": [
        "for i in range(10):\n",
        "  print(i)\n",
        "else:\n",
        "  print(\"this else condition is run when the for loop is end\")"
      ],
      "metadata": {
        "colab": {
          "base_uri": "https://localhost:8080/"
        },
        "id": "mAWt56Ot3myR",
        "outputId": "bde1f445-71e2-4f0c-a7bd-52a5f3fc99d8"
      },
      "execution_count": null,
      "outputs": [
        {
          "output_type": "stream",
          "name": "stdout",
          "text": [
            "0\n",
            "1\n",
            "2\n",
            "3\n",
            "4\n",
            "5\n",
            "6\n",
            "7\n",
            "8\n",
            "9\n",
            "this else condition is run when the for loop is end\n"
          ]
        }
      ]
    },
    {
      "cell_type": "markdown",
      "source": [
        "break statement in for loop"
      ],
      "metadata": {
        "id": "prBJZwILGaFo"
      }
    },
    {
      "cell_type": "code",
      "source": [
        "for i in range(10):\n",
        "  print(i)\n",
        "  if i == 5:\n",
        "    break\n",
        "# the else atatement is not working because the upper statement breake .\n",
        "else:\n",
        "  print(\"abcd\")"
      ],
      "metadata": {
        "colab": {
          "base_uri": "https://localhost:8080/"
        },
        "id": "4mnb7_A33mvb",
        "outputId": "39a4e588-5d28-45a6-9bb4-eed5234f3eb9"
      },
      "execution_count": null,
      "outputs": [
        {
          "output_type": "stream",
          "name": "stdout",
          "text": [
            "0\n",
            "1\n",
            "2\n",
            "3\n",
            "4\n",
            "5\n"
          ]
        }
      ]
    },
    {
      "cell_type": "markdown",
      "source": [
        "continue (its skip the value) statement in for loop"
      ],
      "metadata": {
        "id": "v3yLoUcuHbrc"
      }
    },
    {
      "cell_type": "code",
      "source": [
        "for i in range(10):\n",
        "  \n",
        "  if i == 5:\n",
        "    continue\n",
        "  print(i)\n",
        " "
      ],
      "metadata": {
        "colab": {
          "base_uri": "https://localhost:8080/"
        },
        "id": "Ch-0Tzyo3ms5",
        "outputId": "265ebb2d-d6e1-4251-a42c-080fe54dbcc9"
      },
      "execution_count": null,
      "outputs": [
        {
          "output_type": "stream",
          "name": "stdout",
          "text": [
            "0\n",
            "1\n",
            "2\n",
            "3\n",
            "4\n",
            "6\n",
            "7\n",
            "8\n",
            "9\n"
          ]
        }
      ]
    },
    {
      "cell_type": "markdown",
      "source": [
        "pass statement  (do nothing)"
      ],
      "metadata": {
        "id": "VNnbNIJMH9wM"
      }
    },
    {
      "cell_type": "code",
      "source": [
        "i = 4\n",
        "if i >0:\n",
        "  pass\n",
        "print(\"do nothing\")"
      ],
      "metadata": {
        "colab": {
          "base_uri": "https://localhost:8080/"
        },
        "id": "mLKkeROv3mqH",
        "outputId": "79c2988c-cd01-4a84-b930-43520c54fe5f"
      },
      "execution_count": null,
      "outputs": [
        {
          "output_type": "stream",
          "name": "stdout",
          "text": [
            "do nothing\n"
          ]
        }
      ]
    },
    {
      "cell_type": "code",
      "source": [
        ""
      ],
      "metadata": {
        "id": "-0VB4eCm3mkl"
      },
      "execution_count": null,
      "outputs": []
    },
    {
      "cell_type": "code",
      "source": [
        ""
      ],
      "metadata": {
        "id": "2vP9Uj9E3mhz"
      },
      "execution_count": null,
      "outputs": []
    },
    {
      "cell_type": "code",
      "source": [
        ""
      ],
      "metadata": {
        "id": "RuRVCyPu3mfB"
      },
      "execution_count": null,
      "outputs": []
    },
    {
      "cell_type": "code",
      "execution_count": null,
      "metadata": {
        "colab": {
          "base_uri": "https://localhost:8080/"
        },
        "id": "9wqleiVmLCZ_",
        "outputId": "caa0dbc5-aedd-411d-cbcb-05b112f2a559"
      },
      "outputs": [
        {
          "output_type": "stream",
          "name": "stdout",
          "text": [
            "the no is 0\n",
            "the no is 1\n",
            "the no is 2\n",
            "the no is 3\n",
            "the no is 4\n",
            "the no is 5\n",
            "the no is 6\n",
            "the no is 7\n",
            "the no is 8\n",
            "the no is 9\n",
            "the no is 10\n",
            "the no is 11\n",
            "the no is 12\n",
            "the no is 13\n",
            "the no is 14\n",
            "the no is 15\n",
            "the no is 16\n",
            "the no is 17\n",
            "the no is 18\n",
            "the no is 19\n",
            "the no is 20\n",
            "the no is 21\n",
            "the no is 22\n",
            "the no is 23\n",
            "the no is 24\n",
            "the no is 25\n",
            "the no is 26\n",
            "the no is 27\n",
            "the no is 28\n",
            "the no is 29\n",
            "the no is 30\n",
            "the no is 31\n",
            "the no is 32\n",
            "the no is 33\n",
            "the no is 34\n",
            "the no is 35\n",
            "the no is 36\n",
            "the no is 37\n",
            "the no is 38\n",
            "the no is 39\n",
            "the no is 40\n",
            "the no is 41\n",
            "the no is 42\n",
            "the no is 43\n",
            "the no is 44\n",
            "the no is 45\n",
            "the no is 46\n",
            "the no is 47\n",
            "the no is 48\n",
            "the no is 49\n",
            "the no is 50\n"
          ]
        }
      ],
      "source": [
        "# print 1 to 50 using while loop\n",
        "i = 0\n",
        "while i<50+1:\n",
        "  print(f'the no is {i}')\n",
        "  i += 1\n"
      ]
    },
    {
      "cell_type": "code",
      "source": [
        "item = \"ajit\"\n",
        "for i in item:\n",
        "  ab = i * 2\n",
        "  print(ab)"
      ],
      "metadata": {
        "colab": {
          "base_uri": "https://localhost:8080/"
        },
        "id": "XnhcHCSWLvsF",
        "outputId": "2ab95e67-a657-4d7e-ebc2-175cecd4dea6"
      },
      "execution_count": null,
      "outputs": [
        {
          "output_type": "stream",
          "name": "stdout",
          "text": [
            "aa\n",
            "jj\n",
            "ii\n",
            "tt\n"
          ]
        }
      ]
    },
    {
      "cell_type": "code",
      "source": [
        "for i in range(0,9):\n",
        "  print(i)"
      ],
      "metadata": {
        "colab": {
          "base_uri": "https://localhost:8080/"
        },
        "id": "pJoe5ShiMoNv",
        "outputId": "02abb0cd-d9d4-4ebe-ca8c-3a294ab8e624"
      },
      "execution_count": null,
      "outputs": [
        {
          "output_type": "stream",
          "name": "stdout",
          "text": [
            "0\n",
            "1\n",
            "2\n",
            "3\n",
            "4\n",
            "5\n",
            "6\n",
            "7\n",
            "8\n"
          ]
        }
      ]
    },
    {
      "cell_type": "code",
      "source": [
        "display(i)"
      ],
      "metadata": {
        "colab": {
          "base_uri": "https://localhost:8080/",
          "height": 34
        },
        "id": "YbSOh45vNwv9",
        "outputId": "eb03ddf7-8c1f-44d8-b24d-a30242b7562b"
      },
      "execution_count": null,
      "outputs": [
        {
          "output_type": "display_data",
          "data": {
            "text/plain": [
              "8"
            ]
          },
          "metadata": {}
        }
      ]
    },
    {
      "cell_type": "code",
      "source": [
        "a = (1,2,3,4)\n"
      ],
      "metadata": {
        "id": "IRbhhWq2OPn7"
      },
      "execution_count": null,
      "outputs": []
    },
    {
      "cell_type": "code",
      "source": [
        "ajit = [\"a\",\"b\",\"c\",\"d\"]"
      ],
      "metadata": {
        "id": "_yrQOtKxRq-f"
      },
      "execution_count": null,
      "outputs": []
    },
    {
      "cell_type": "code",
      "source": [
        "for i in range (0,7,2):\n",
        "  print(i)"
      ],
      "metadata": {
        "colab": {
          "base_uri": "https://localhost:8080/"
        },
        "id": "imluPMYGSKgL",
        "outputId": "d2c7f50a-eedf-4b02-95a0-9a8e4376204d"
      },
      "execution_count": null,
      "outputs": [
        {
          "output_type": "stream",
          "name": "stdout",
          "text": [
            "0\n",
            "2\n",
            "4\n",
            "6\n"
          ]
        }
      ]
    },
    {
      "cell_type": "code",
      "source": [
        "\n"
      ],
      "metadata": {
        "colab": {
          "base_uri": "https://localhost:8080/"
        },
        "id": "rNXO1jKOSNA4",
        "outputId": "3a353c71-00ab-4c13-d03c-d321d690444b"
      },
      "execution_count": null,
      "outputs": [
        {
          "output_type": "execute_result",
          "data": {
            "text/plain": [
              "<zip at 0x7f7b79584eb0>"
            ]
          },
          "metadata": {},
          "execution_count": 53
        }
      ]
    },
    {
      "cell_type": "code",
      "source": [
        ""
      ],
      "metadata": {
        "id": "UGczNCiTSPKQ"
      },
      "execution_count": null,
      "outputs": []
    },
    {
      "cell_type": "code",
      "source": [
        "for i in range(0,50):\n",
        "  print(i)\n",
        "  if i == 40:\n",
        "    break"
      ],
      "metadata": {
        "colab": {
          "base_uri": "https://localhost:8080/"
        },
        "id": "GGvqRxTKSV8P",
        "outputId": "a8c96d47-2aa3-4499-a20d-7aeb038c58dc"
      },
      "execution_count": null,
      "outputs": [
        {
          "output_type": "stream",
          "name": "stdout",
          "text": [
            "0\n",
            "1\n",
            "2\n",
            "3\n",
            "4\n",
            "5\n",
            "6\n",
            "7\n",
            "8\n",
            "9\n",
            "10\n",
            "11\n",
            "12\n",
            "13\n",
            "14\n",
            "15\n",
            "16\n",
            "17\n",
            "18\n",
            "19\n",
            "20\n",
            "21\n",
            "22\n",
            "23\n",
            "24\n",
            "25\n",
            "26\n",
            "27\n",
            "28\n",
            "29\n",
            "30\n",
            "31\n",
            "32\n",
            "33\n",
            "34\n",
            "35\n",
            "36\n",
            "37\n",
            "38\n",
            "39\n",
            "40\n"
          ]
        }
      ]
    },
    {
      "cell_type": "code",
      "source": [
        "for item in range(1 , 1000 , 20):\n",
        "  print(f'this id the item no {item}')\n",
        "  if item == 100:\n",
        "    continue\n",
        "  else:\n",
        "    break"
      ],
      "metadata": {
        "colab": {
          "base_uri": "https://localhost:8080/"
        },
        "id": "R7NWYcOmUVWF",
        "outputId": "60235181-fae6-4f40-ff38-a1e302b60459"
      },
      "execution_count": null,
      "outputs": [
        {
          "output_type": "stream",
          "name": "stdout",
          "text": [
            "this id the item no 1\n"
          ]
        }
      ]
    },
    {
      "cell_type": "code",
      "source": [
        "a = [5,6,8,9,7,10]"
      ],
      "metadata": {
        "id": "l9-zVvSKU1uc"
      },
      "execution_count": null,
      "outputs": []
    },
    {
      "cell_type": "code",
      "source": [
        "for number,i in enumerate(a):\n",
        "  squred_number = i**2\n",
        "  print(f'the {i} number is {number+1} ')\n",
        "  print(f'and the squred of {i} is {squred_number}')\n"
      ],
      "metadata": {
        "colab": {
          "base_uri": "https://localhost:8080/"
        },
        "id": "IZwFH6uLW_ov",
        "outputId": "deff1d48-b1f6-4f79-c18d-9a395f320b4d"
      },
      "execution_count": null,
      "outputs": [
        {
          "output_type": "stream",
          "name": "stdout",
          "text": [
            "the 5 number is 1 \n",
            "and the squred of 5 is 25\n",
            "the 6 number is 2 \n",
            "and the squred of 6 is 36\n",
            "the 8 number is 3 \n",
            "and the squred of 8 is 64\n",
            "the 9 number is 4 \n",
            "and the squred of 9 is 81\n",
            "the 7 number is 5 \n",
            "and the squred of 7 is 49\n",
            "the 10 number is 6 \n",
            "and the squred of 10 is 100\n"
          ]
        }
      ]
    },
    {
      "cell_type": "code",
      "source": [
        ""
      ],
      "metadata": {
        "id": "6jFMbS7JXG49"
      },
      "execution_count": null,
      "outputs": []
    },
    {
      "cell_type": "markdown",
      "source": [
        "#practice set"
      ],
      "metadata": {
        "id": "P_VwbMA0I6l8"
      }
    },
    {
      "cell_type": "code",
      "source": [
        "#Q1- multiplication table of a given number using for loop"
      ],
      "metadata": {
        "id": "_3nJptC4I9Cl"
      },
      "execution_count": null,
      "outputs": []
    },
    {
      "cell_type": "code",
      "source": [
        "num = int(input(\"ebter the number\"))"
      ],
      "metadata": {
        "colab": {
          "base_uri": "https://localhost:8080/"
        },
        "id": "G35BGWnXJJfx",
        "outputId": "77883370-6410-4140-a0ab-fcdcff590719"
      },
      "execution_count": null,
      "outputs": [
        {
          "name": "stdout",
          "output_type": "stream",
          "text": [
            "ebter the number5\n"
          ]
        }
      ]
    },
    {
      "cell_type": "code",
      "source": [
        "#my idea\n",
        "lis =[1,2,3,4,5,6,7,8,9,10]\n",
        "for item in lis:\n",
        "  table = item * num\n",
        "  print(f'{item}x{num}={table} ')"
      ],
      "metadata": {
        "colab": {
          "base_uri": "https://localhost:8080/"
        },
        "id": "ui6kr9zGJPaH",
        "outputId": "b5316d0a-8e55-4d82-8251-7f65e0230769"
      },
      "execution_count": null,
      "outputs": [
        {
          "output_type": "stream",
          "name": "stdout",
          "text": [
            "1x5=5 \n",
            "2x5=10 \n",
            "3x5=15 \n",
            "4x5=20 \n",
            "5x5=25 \n",
            "6x5=30 \n",
            "7x5=35 \n",
            "8x5=40 \n",
            "9x5=45 \n",
            "10x5=50 \n"
          ]
        }
      ]
    },
    {
      "cell_type": "code",
      "source": [
        "#anothe way to do this\n",
        "num = int(input(\"enter the number\"))\n",
        "for i in range(1,11):\n",
        "  print(str(num) + \"x\" + str(i) + '=' + str(i*num))\n",
        "\n"
      ],
      "metadata": {
        "colab": {
          "base_uri": "https://localhost:8080/"
        },
        "id": "2Wj4SF5AJlIg",
        "outputId": "b601d271-9369-4388-d71d-c336314b6af2"
      },
      "execution_count": null,
      "outputs": [
        {
          "output_type": "stream",
          "name": "stdout",
          "text": [
            "enter the number5\n",
            "5x1=5\n",
            "5x2=10\n",
            "5x3=15\n",
            "5x4=20\n",
            "5x5=25\n",
            "5x6=30\n",
            "5x7=35\n",
            "5x8=40\n",
            "5x9=45\n",
            "5x10=50\n"
          ]
        }
      ]
    },
    {
      "cell_type": "code",
      "source": [
        "#Q2 -"
      ],
      "metadata": {
        "id": "RfWiZuXcK905"
      },
      "execution_count": null,
      "outputs": []
    },
    {
      "cell_type": "code",
      "source": [
        "l1 = ['harry','sohan','sachin','rahul']"
      ],
      "metadata": {
        "id": "sEGZNhTGLeaE"
      },
      "execution_count": null,
      "outputs": []
    },
    {
      "cell_type": "code",
      "source": [
        "for name in l1:\n",
        "  if name.startswith('s'):\n",
        "    print(f'hello {name}')"
      ],
      "metadata": {
        "colab": {
          "base_uri": "https://localhost:8080/"
        },
        "id": "QjWl2YERLmVi",
        "outputId": "a0853af5-9771-46b4-ac04-6ada256b431b"
      },
      "execution_count": null,
      "outputs": [
        {
          "output_type": "stream",
          "name": "stdout",
          "text": [
            "hello sohan\n",
            "hello sachin\n"
          ]
        }
      ]
    },
    {
      "cell_type": "code",
      "source": [
        "#Q3-prime number"
      ],
      "metadata": {
        "id": "NQLKb2miL27S"
      },
      "execution_count": null,
      "outputs": []
    },
    {
      "cell_type": "code",
      "source": [
        "num = int(input('enter the number'))"
      ],
      "metadata": {
        "colab": {
          "base_uri": "https://localhost:8080/"
        },
        "id": "6KCHFH0mMR3j",
        "outputId": "2872de5d-45f1-4ca9-e445-a008182b42a9"
      },
      "execution_count": null,
      "outputs": [
        {
          "name": "stdout",
          "output_type": "stream",
          "text": [
            "enter the number2\n"
          ]
        }
      ]
    },
    {
      "cell_type": "code",
      "source": [
        "prime = True\n",
        "for i in range(2,num):\n",
        "  if (num%i == 0):\n",
        "    prime = False\n",
        "    break\n",
        "if prime:\n",
        "  print('this is a prime no')\n",
        "else:\n",
        "  print('this is not a prime no')"
      ],
      "metadata": {
        "colab": {
          "base_uri": "https://localhost:8080/"
        },
        "id": "R0Xa9V7_Mybi",
        "outputId": "f213718c-f82b-43be-c052-222e561d72c4"
      },
      "execution_count": null,
      "outputs": [
        {
          "output_type": "stream",
          "name": "stdout",
          "text": [
            "this is a prime no\n"
          ]
        }
      ]
    },
    {
      "cell_type": "code",
      "source": [
        "#Q5-"
      ],
      "metadata": {
        "id": "_J5P2hqGOdY7"
      },
      "execution_count": null,
      "outputs": []
    },
    {
      "cell_type": "code",
      "source": [
        "i = 1\n",
        "while i<6:\n",
        "  for i \n",
        "  print(i)\n",
        "  i = i+1"
      ],
      "metadata": {
        "id": "qpf5Qm7aPGVl"
      },
      "execution_count": null,
      "outputs": []
    },
    {
      "cell_type": "code",
      "source": [
        "#Q6-"
      ],
      "metadata": {
        "id": "tc_EMXCRPbui"
      },
      "execution_count": null,
      "outputs": []
    },
    {
      "cell_type": "code",
      "source": [
        "num = int(input(\"enter the no\"))\n",
        "factorial = 1\n",
        "for i in range(1,num+1):\n",
        "  factorial = factorial * i    \n",
        "print(f\"the factorial of {num}this number is {factorial}\")"
      ],
      "metadata": {
        "colab": {
          "base_uri": "https://localhost:8080/"
        },
        "id": "A44EGOe0P1GH",
        "outputId": "5262cddc-fa55-4037-8ed9-ba5593e568cc"
      },
      "execution_count": null,
      "outputs": [
        {
          "output_type": "stream",
          "name": "stdout",
          "text": [
            "enter the no5\n",
            "the factorial of 5this number is 120\n"
          ]
        }
      ]
    },
    {
      "cell_type": "code",
      "source": [
        "#Q7-"
      ],
      "metadata": {
        "id": "Y5wONdy9QiXV"
      },
      "execution_count": null,
      "outputs": []
    },
    {
      "cell_type": "code",
      "source": [
        "n = 3\n",
        "for i in range(3):\n",
        "  print (\" \" * (n-i-1), end =\"\")\n",
        "  print (\"*\" * (2*i+1), end=\"\")\n",
        "  print (\" \" * (n-i-1))"
      ],
      "metadata": {
        "colab": {
          "base_uri": "https://localhost:8080/"
        },
        "id": "owwbRAk-RfTz",
        "outputId": "2f26ace5-20bf-44aa-8ab0-4c6959a5a861"
      },
      "execution_count": null,
      "outputs": [
        {
          "output_type": "stream",
          "name": "stdout",
          "text": [
            "  *  \n",
            " *** \n",
            "*****\n"
          ]
        }
      ]
    },
    {
      "cell_type": "code",
      "source": [
        "#q8-"
      ],
      "metadata": {
        "id": "SqO5c6HKRliu"
      },
      "execution_count": null,
      "outputs": []
    },
    {
      "cell_type": "code",
      "source": [
        "for i in range(4):\n",
        "  print('*'* (i+1))"
      ],
      "metadata": {
        "colab": {
          "base_uri": "https://localhost:8080/"
        },
        "id": "e7PSraKsRlfW",
        "outputId": "e6ea0f9f-5ee0-4e97-cbb5-e3cf3c955cd0"
      },
      "execution_count": null,
      "outputs": [
        {
          "output_type": "stream",
          "name": "stdout",
          "text": [
            "*\n",
            "**\n",
            "***\n",
            "****\n"
          ]
        }
      ]
    },
    {
      "cell_type": "code",
      "source": [
        ""
      ],
      "metadata": {
        "id": "TDhXcdb4R7QP"
      },
      "execution_count": null,
      "outputs": []
    }
  ]
}