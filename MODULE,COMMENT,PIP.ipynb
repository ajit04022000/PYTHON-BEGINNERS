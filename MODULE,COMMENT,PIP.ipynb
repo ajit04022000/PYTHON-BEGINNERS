{
  "nbformat": 4,
  "nbformat_minor": 0,
  "metadata": {
    "colab": {
      "name": "MODULE,COMMENT,PIP.ipynb",
      "provenance": [],
      "authorship_tag": "ABX9TyOs6ea2S3yynKnu0HCMGL8f",
      "include_colab_link": true
    },
    "kernelspec": {
      "name": "python3",
      "display_name": "Python 3"
    },
    "language_info": {
      "name": "python"
    }
  },
  "cells": [
    {
      "cell_type": "markdown",
      "metadata": {
        "id": "view-in-github",
        "colab_type": "text"
      },
      "source": [
        "<a href=\"https://colab.research.google.com/github/ajit04022000/python_begginers_codewith_ajit/blob/main/MODULE%2CCOMMENT%2CPIP.ipynb\" target=\"_parent\"><img src=\"https://colab.research.google.com/assets/colab-badge.svg\" alt=\"Open In Colab\"/></a>"
      ]
    },
    {
      "cell_type": "markdown",
      "source": [
        " ## code with harry \n",
        " #{modules , comment ,pip } \n",
        " #01_python.py"
      ],
      "metadata": {
        "id": "AfD7nZxCAljV"
      }
    },
    {
      "cell_type": "code",
      "execution_count": null,
      "metadata": {
        "colab": {
          "base_uri": "https://localhost:8080/"
        },
        "id": "6qpn4sjEzumf",
        "outputId": "59f31800-4d7d-42dc-9f9c-abfbb8118d32"
      },
      "outputs": [
        {
          "output_type": "stream",
          "name": "stdout",
          "text": [
            "hello world\n"
          ]
        }
      ],
      "source": [
        "print(\"hello world\")"
      ]
    },
    {
      "cell_type": "code",
      "source": [
        "# aji is the author of this abc"
      ],
      "metadata": {
        "id": "JweUqRdX0vJv"
      },
      "execution_count": null,
      "outputs": []
    },
    {
      "cell_type": "code",
      "source": [
        "'''ajit kumar patel'''"
      ],
      "metadata": {
        "colab": {
          "base_uri": "https://localhost:8080/",
          "height": 35
        },
        "id": "qDC2m54k2Frx",
        "outputId": "accfd016-d3ee-4d04-bb95-184524177829"
      },
      "execution_count": null,
      "outputs": [
        {
          "output_type": "execute_result",
          "data": {
            "application/vnd.google.colaboratory.intrinsic+json": {
              "type": "string"
            },
            "text/plain": [
              "'ajit kumar patel'"
            ]
          },
          "metadata": {},
          "execution_count": 13
        }
      ]
    },
    {
      "cell_type": "code",
      "source": [
        "len(\"ajit\")"
      ],
      "metadata": {
        "colab": {
          "base_uri": "https://localhost:8080/"
        },
        "id": "TQ0SRAGt2hUH",
        "outputId": "cfef851e-64f3-4af2-c543-149d645c5d85"
      },
      "execution_count": null,
      "outputs": [
        {
          "output_type": "execute_result",
          "data": {
            "text/plain": [
              "4"
            ]
          },
          "metadata": {},
          "execution_count": 16
        }
      ]
    },
    {
      "cell_type": "code",
      "source": [
        "'''\n",
        "this the the soluaotion\n",
        "'''\n",
        "# this is also a comment\n",
        "\n",
        "\n",
        "\n",
        "print('''Twinkle twinkle little star.\\n\n",
        "How I wonder what you are.\\n\n",
        "Up above the world so high.\\n\n",
        "Like a diamond in the sky.\\n\n",
        "Twinkle twinkle little star.\\n\n",
        "How I wonder what you are.\\n\n",
        "\n",
        "Twinkle twinkle little star.\\n\n",
        "How I wonder what you are.\\n\n",
        "Up above the world so high.\\n\n",
        "Like a diamond in the sky.\\n\n",
        "Twinkle twinkle little star.''')"
      ],
      "metadata": {
        "colab": {
          "base_uri": "https://localhost:8080/"
        },
        "id": "89Wv8rWw60jI",
        "outputId": "590c4cc1-a907-4605-a2a2-1dee44a0bed6"
      },
      "execution_count": null,
      "outputs": [
        {
          "output_type": "stream",
          "name": "stdout",
          "text": [
            "Twinkle twinkle little star.\n",
            "\n",
            "How I wonder what you are.\n",
            "\n",
            "Up above the world so high.\n",
            "\n",
            "Like a diamond in the sky.\n",
            "\n",
            "Twinkle twinkle little star.\n",
            "\n",
            "How I wonder what you are.\n",
            "\n",
            "\n",
            "Twinkle twinkle little star.\n",
            "\n",
            "How I wonder what you are.\n",
            "\n",
            "Up above the world so high.\n",
            "\n",
            "Like a diamond in the sky.\n",
            "\n",
            "Twinkle twinkle little star.\n"
          ]
        }
      ]
    },
    {
      "cell_type": "code",
      "source": [
        "5*1"
      ],
      "metadata": {
        "colab": {
          "base_uri": "https://localhost:8080/"
        },
        "id": "913Ae0rK7Ek0",
        "outputId": "48971c8e-6f69-4a90-f425-612649c9a3aa"
      },
      "execution_count": null,
      "outputs": [
        {
          "output_type": "execute_result",
          "data": {
            "text/plain": [
              "5"
            ]
          },
          "metadata": {},
          "execution_count": 28
        }
      ]
    },
    {
      "cell_type": "code",
      "source": [
        "5*2"
      ],
      "metadata": {
        "colab": {
          "base_uri": "https://localhost:8080/"
        },
        "id": "H1sFkCBT8G4n",
        "outputId": "0f0eee1b-27e0-40e8-ac87-0bde781c1e7c"
      },
      "execution_count": null,
      "outputs": [
        {
          "output_type": "execute_result",
          "data": {
            "text/plain": [
              "10"
            ]
          },
          "metadata": {},
          "execution_count": 29
        }
      ]
    },
    {
      "cell_type": "code",
      "source": [
        "5*3"
      ],
      "metadata": {
        "colab": {
          "base_uri": "https://localhost:8080/"
        },
        "id": "4jDv9wI18PtS",
        "outputId": "89a0cd76-fb4f-4245-fc02-725c6f0a0d5a"
      },
      "execution_count": null,
      "outputs": [
        {
          "output_type": "execute_result",
          "data": {
            "text/plain": [
              "15"
            ]
          },
          "metadata": {},
          "execution_count": 30
        }
      ]
    },
    {
      "cell_type": "code",
      "source": [
        "5*4"
      ],
      "metadata": {
        "colab": {
          "base_uri": "https://localhost:8080/"
        },
        "id": "-sgWyEi08QNl",
        "outputId": "d6fdf84d-ec10-4e72-88f9-b9447d6aec9a"
      },
      "execution_count": null,
      "outputs": [
        {
          "output_type": "execute_result",
          "data": {
            "text/plain": [
              "20"
            ]
          },
          "metadata": {},
          "execution_count": 31
        }
      ]
    },
    {
      "cell_type": "code",
      "source": [
        "5*5"
      ],
      "metadata": {
        "colab": {
          "base_uri": "https://localhost:8080/"
        },
        "id": "0W6AdZ328Qt_",
        "outputId": "63a38661-dad2-4212-9dd7-7e46a8408b57"
      },
      "execution_count": null,
      "outputs": [
        {
          "output_type": "execute_result",
          "data": {
            "text/plain": [
              "25"
            ]
          },
          "metadata": {},
          "execution_count": 32
        }
      ]
    },
    {
      "cell_type": "code",
      "source": [
        "5*6"
      ],
      "metadata": {
        "colab": {
          "base_uri": "https://localhost:8080/"
        },
        "id": "Vzfms2jg8Rf1",
        "outputId": "37a12ec2-6b62-417a-fbad-962d17b0f8de"
      },
      "execution_count": null,
      "outputs": [
        {
          "output_type": "execute_result",
          "data": {
            "text/plain": [
              "30"
            ]
          },
          "metadata": {},
          "execution_count": 33
        }
      ]
    },
    {
      "cell_type": "code",
      "source": [
        "5*7"
      ],
      "metadata": {
        "colab": {
          "base_uri": "https://localhost:8080/"
        },
        "id": "zoKlHyJ_8R6G",
        "outputId": "75b601df-7e9e-4624-a6e0-41f5609c429c"
      },
      "execution_count": null,
      "outputs": [
        {
          "output_type": "execute_result",
          "data": {
            "text/plain": [
              "35"
            ]
          },
          "metadata": {},
          "execution_count": 34
        }
      ]
    },
    {
      "cell_type": "code",
      "source": [
        "5*8"
      ],
      "metadata": {
        "colab": {
          "base_uri": "https://localhost:8080/"
        },
        "id": "p7dYSo4Z8SYu",
        "outputId": "5b89c63b-a5b0-4902-feeb-69e8e08f4ce0"
      },
      "execution_count": null,
      "outputs": [
        {
          "output_type": "execute_result",
          "data": {
            "text/plain": [
              "40"
            ]
          },
          "metadata": {},
          "execution_count": 35
        }
      ]
    },
    {
      "cell_type": "code",
      "source": [
        "5*9"
      ],
      "metadata": {
        "colab": {
          "base_uri": "https://localhost:8080/"
        },
        "id": "DN3ieIeR8TFK",
        "outputId": "9169312b-056c-421b-e356-e37301a96b86"
      },
      "execution_count": null,
      "outputs": [
        {
          "output_type": "execute_result",
          "data": {
            "text/plain": [
              "45"
            ]
          },
          "metadata": {},
          "execution_count": 38
        }
      ]
    },
    {
      "cell_type": "code",
      "source": [
        "5*10"
      ],
      "metadata": {
        "colab": {
          "base_uri": "https://localhost:8080/"
        },
        "id": "Xm43w-nf8TkK",
        "outputId": "f2810f1c-31df-4e1c-b30e-fac725500c26"
      },
      "execution_count": null,
      "outputs": [
        {
          "output_type": "execute_result",
          "data": {
            "text/plain": [
              "50"
            ]
          },
          "metadata": {},
          "execution_count": 37
        }
      ]
    },
    {
      "cell_type": "code",
      "source": [
        "pip install playsound"
      ],
      "metadata": {
        "colab": {
          "base_uri": "https://localhost:8080/"
        },
        "id": "uHBYQ69s8UH4",
        "outputId": "36496b51-77b5-45db-b6f7-8c299fe8efdc"
      },
      "execution_count": null,
      "outputs": [
        {
          "output_type": "stream",
          "name": "stdout",
          "text": [
            "Collecting playsound\n",
            "  Downloading playsound-1.3.0.tar.gz (7.7 kB)\n",
            "Building wheels for collected packages: playsound\n",
            "  Building wheel for playsound (setup.py) ... \u001b[?25l\u001b[?25hdone\n",
            "  Created wheel for playsound: filename=playsound-1.3.0-py3-none-any.whl size=7035 sha256=dffe4a1ede41d717c9fe4c07157ddc02fb1756b844b218db3598ecccb1129f46\n",
            "  Stored in directory: /root/.cache/pip/wheels/ba/f8/bb/ea57c0146b664dca3a0ada4199b0ecb5f9dfcb7b7e22b65ba2\n",
            "Successfully built playsound\n",
            "Installing collected packages: playsound\n",
            "Successfully installed playsound-1.3.0\n"
          ]
        }
      ]
    },
    {
      "cell_type": "code",
      "source": [
        "playsound(\"C:\\\\Users\\\\AJIT\\\\Music\\\\Tich Button (Cover Song) - Simar Sethi _ New Punjabi Songs 2021 _ Chahida Kuch Vi Nai Punjabi Gaana(MP3_70K).mp3\")\n"
      ],
      "metadata": {
        "id": "Nzuov_N7-Q_t"
      },
      "execution_count": null,
      "outputs": []
    },
    {
      "cell_type": "code",
      "source": [
        "# author : ajit\n",
        "# date : 22/01/2021\n",
        "# time : 02/28\n",
        "\n",
        "\n",
        "import os"
      ],
      "metadata": {
        "id": "KOs6H0rg-c7r"
      },
      "execution_count": null,
      "outputs": []
    },
    {
      "cell_type": "code",
      "source": [
        "print(os.listdir())"
      ],
      "metadata": {
        "colab": {
          "base_uri": "https://localhost:8080/"
        },
        "id": "QuD60OqX_Jm5",
        "outputId": "3aeb29a9-4df4-493d-e690-34f9de6dea0f"
      },
      "execution_count": null,
      "outputs": [
        {
          "output_type": "stream",
          "name": "stdout",
          "text": [
            "['.config', 'sample_data']\n"
          ]
        }
      ]
    },
    {
      "cell_type": "code",
      "source": [
        ""
      ],
      "metadata": {
        "id": "XiDAW6iL_QRL"
      },
      "execution_count": null,
      "outputs": []
    },
    {
      "cell_type": "code",
      "source": [
        "'''this is a \n",
        "multi line comment'''"
      ],
      "metadata": {
        "id": "SZ-AtAsOgpjG"
      },
      "execution_count": null,
      "outputs": []
    },
    {
      "cell_type": "code",
      "source": [
        "this is a sing line coment"
      ],
      "metadata": {
        "id": "vNg2hTKfhCfE"
      },
      "execution_count": null,
      "outputs": []
    },
    {
      "cell_type": "code",
      "source": [
        "pip instal os"
      ],
      "metadata": {
        "colab": {
          "base_uri": "https://localhost:8080/"
        },
        "id": "hPV7Eo4YhJJT",
        "outputId": "f1180835-4328-411d-d572-624e6020cd91"
      },
      "execution_count": null,
      "outputs": [
        {
          "output_type": "stream",
          "name": "stdout",
          "text": [
            "ERROR: unknown command \"intall\" - maybe you meant \"install\"\n"
          ]
        }
      ]
    },
    {
      "cell_type": "code",
      "source": [
        ""
      ],
      "metadata": {
        "id": "7awbDVxihg8m"
      },
      "execution_count": null,
      "outputs": []
    }
  ]
}