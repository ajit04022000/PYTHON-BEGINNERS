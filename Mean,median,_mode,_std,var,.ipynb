{
  "nbformat": 4,
  "nbformat_minor": 0,
  "metadata": {
    "colab": {
      "name": "Mean,median, mode, std,var,.ipynb",
      "provenance": [],
      "collapsed_sections": [],
      "authorship_tag": "ABX9TyNydx2tyYrBTYsn29Kastmx",
      "include_colab_link": true
    },
    "kernelspec": {
      "name": "python3",
      "display_name": "Python 3"
    },
    "language_info": {
      "name": "python"
    }
  },
  "cells": [
    {
      "cell_type": "markdown",
      "metadata": {
        "id": "view-in-github",
        "colab_type": "text"
      },
      "source": [
        "<a href=\"https://colab.research.google.com/github/ajit04022000/python_begginers_codewith_ajit/blob/main/Mean%2Cmedian%2C_mode%2C_std%2Cvar%2C.ipynb\" target=\"_parent\"><img src=\"https://colab.research.google.com/assets/colab-badge.svg\" alt=\"Open In Colab\"/></a>"
      ]
    },
    {
      "cell_type": "code",
      "execution_count": 67,
      "metadata": {
        "id": "DUB4jQw-ZUP3"
      },
      "outputs": [],
      "source": [
        "import numpy as np\n",
        "import pandas as pd\n",
        "import matplotlib.pyplot as plt\n",
        "import seaborn as sns"
      ]
    },
    {
      "cell_type": "markdown",
      "source": [
        "## Data Frame And List"
      ],
      "metadata": {
        "id": "utvw9S7XLjGb"
      }
    },
    {
      "cell_type": "code",
      "source": [
        "df =pd.DataFrame(data=[1,2,2,2,3,3,4,5,5,5,6,6,6,6,7,8,8,9,27])"
      ],
      "metadata": {
        "id": "Xq8i_uuzZVF-"
      },
      "execution_count": 68,
      "outputs": []
    },
    {
      "cell_type": "code",
      "source": [
        "list_ = [1,2,2,2,3,3,4,5,5,5,6,6,6,6,7,8,8,9,27]"
      ],
      "metadata": {
        "id": "Q5uICrJDZXbB"
      },
      "execution_count": 69,
      "outputs": []
    },
    {
      "cell_type": "code",
      "source": [
        "df.describe()"
      ],
      "metadata": {
        "colab": {
          "base_uri": "https://localhost:8080/",
          "height": 300
        },
        "id": "mMImU_A_Za4x",
        "outputId": "e8726153-2f4b-4441-e62a-786c41228b3f"
      },
      "execution_count": 70,
      "outputs": [
        {
          "output_type": "execute_result",
          "data": {
            "text/plain": [
              "               0\n",
              "count  19.000000\n",
              "mean    6.052632\n",
              "std     5.562510\n",
              "min     1.000000\n",
              "25%     3.000000\n",
              "50%     5.000000\n",
              "75%     6.500000\n",
              "max    27.000000"
            ],
            "text/html": [
              "\n",
              "  <div id=\"df-93339c82-fea4-47d7-abc6-11facba879d8\">\n",
              "    <div class=\"colab-df-container\">\n",
              "      <div>\n",
              "<style scoped>\n",
              "    .dataframe tbody tr th:only-of-type {\n",
              "        vertical-align: middle;\n",
              "    }\n",
              "\n",
              "    .dataframe tbody tr th {\n",
              "        vertical-align: top;\n",
              "    }\n",
              "\n",
              "    .dataframe thead th {\n",
              "        text-align: right;\n",
              "    }\n",
              "</style>\n",
              "<table border=\"1\" class=\"dataframe\">\n",
              "  <thead>\n",
              "    <tr style=\"text-align: right;\">\n",
              "      <th></th>\n",
              "      <th>0</th>\n",
              "    </tr>\n",
              "  </thead>\n",
              "  <tbody>\n",
              "    <tr>\n",
              "      <th>count</th>\n",
              "      <td>19.000000</td>\n",
              "    </tr>\n",
              "    <tr>\n",
              "      <th>mean</th>\n",
              "      <td>6.052632</td>\n",
              "    </tr>\n",
              "    <tr>\n",
              "      <th>std</th>\n",
              "      <td>5.562510</td>\n",
              "    </tr>\n",
              "    <tr>\n",
              "      <th>min</th>\n",
              "      <td>1.000000</td>\n",
              "    </tr>\n",
              "    <tr>\n",
              "      <th>25%</th>\n",
              "      <td>3.000000</td>\n",
              "    </tr>\n",
              "    <tr>\n",
              "      <th>50%</th>\n",
              "      <td>5.000000</td>\n",
              "    </tr>\n",
              "    <tr>\n",
              "      <th>75%</th>\n",
              "      <td>6.500000</td>\n",
              "    </tr>\n",
              "    <tr>\n",
              "      <th>max</th>\n",
              "      <td>27.000000</td>\n",
              "    </tr>\n",
              "  </tbody>\n",
              "</table>\n",
              "</div>\n",
              "      <button class=\"colab-df-convert\" onclick=\"convertToInteractive('df-93339c82-fea4-47d7-abc6-11facba879d8')\"\n",
              "              title=\"Convert this dataframe to an interactive table.\"\n",
              "              style=\"display:none;\">\n",
              "        \n",
              "  <svg xmlns=\"http://www.w3.org/2000/svg\" height=\"24px\"viewBox=\"0 0 24 24\"\n",
              "       width=\"24px\">\n",
              "    <path d=\"M0 0h24v24H0V0z\" fill=\"none\"/>\n",
              "    <path d=\"M18.56 5.44l.94 2.06.94-2.06 2.06-.94-2.06-.94-.94-2.06-.94 2.06-2.06.94zm-11 1L8.5 8.5l.94-2.06 2.06-.94-2.06-.94L8.5 2.5l-.94 2.06-2.06.94zm10 10l.94 2.06.94-2.06 2.06-.94-2.06-.94-.94-2.06-.94 2.06-2.06.94z\"/><path d=\"M17.41 7.96l-1.37-1.37c-.4-.4-.92-.59-1.43-.59-.52 0-1.04.2-1.43.59L10.3 9.45l-7.72 7.72c-.78.78-.78 2.05 0 2.83L4 21.41c.39.39.9.59 1.41.59.51 0 1.02-.2 1.41-.59l7.78-7.78 2.81-2.81c.8-.78.8-2.07 0-2.86zM5.41 20L4 18.59l7.72-7.72 1.47 1.35L5.41 20z\"/>\n",
              "  </svg>\n",
              "      </button>\n",
              "      \n",
              "  <style>\n",
              "    .colab-df-container {\n",
              "      display:flex;\n",
              "      flex-wrap:wrap;\n",
              "      gap: 12px;\n",
              "    }\n",
              "\n",
              "    .colab-df-convert {\n",
              "      background-color: #E8F0FE;\n",
              "      border: none;\n",
              "      border-radius: 50%;\n",
              "      cursor: pointer;\n",
              "      display: none;\n",
              "      fill: #1967D2;\n",
              "      height: 32px;\n",
              "      padding: 0 0 0 0;\n",
              "      width: 32px;\n",
              "    }\n",
              "\n",
              "    .colab-df-convert:hover {\n",
              "      background-color: #E2EBFA;\n",
              "      box-shadow: 0px 1px 2px rgba(60, 64, 67, 0.3), 0px 1px 3px 1px rgba(60, 64, 67, 0.15);\n",
              "      fill: #174EA6;\n",
              "    }\n",
              "\n",
              "    [theme=dark] .colab-df-convert {\n",
              "      background-color: #3B4455;\n",
              "      fill: #D2E3FC;\n",
              "    }\n",
              "\n",
              "    [theme=dark] .colab-df-convert:hover {\n",
              "      background-color: #434B5C;\n",
              "      box-shadow: 0px 1px 3px 1px rgba(0, 0, 0, 0.15);\n",
              "      filter: drop-shadow(0px 1px 2px rgba(0, 0, 0, 0.3));\n",
              "      fill: #FFFFFF;\n",
              "    }\n",
              "  </style>\n",
              "\n",
              "      <script>\n",
              "        const buttonEl =\n",
              "          document.querySelector('#df-93339c82-fea4-47d7-abc6-11facba879d8 button.colab-df-convert');\n",
              "        buttonEl.style.display =\n",
              "          google.colab.kernel.accessAllowed ? 'block' : 'none';\n",
              "\n",
              "        async function convertToInteractive(key) {\n",
              "          const element = document.querySelector('#df-93339c82-fea4-47d7-abc6-11facba879d8');\n",
              "          const dataTable =\n",
              "            await google.colab.kernel.invokeFunction('convertToInteractive',\n",
              "                                                     [key], {});\n",
              "          if (!dataTable) return;\n",
              "\n",
              "          const docLinkHtml = 'Like what you see? Visit the ' +\n",
              "            '<a target=\"_blank\" href=https://colab.research.google.com/notebooks/data_table.ipynb>data table notebook</a>'\n",
              "            + ' to learn more about interactive tables.';\n",
              "          element.innerHTML = '';\n",
              "          dataTable['output_type'] = 'display_data';\n",
              "          await google.colab.output.renderOutput(dataTable, element);\n",
              "          const docLink = document.createElement('div');\n",
              "          docLink.innerHTML = docLinkHtml;\n",
              "          element.appendChild(docLink);\n",
              "        }\n",
              "      </script>\n",
              "    </div>\n",
              "  </div>\n",
              "  "
            ]
          },
          "metadata": {},
          "execution_count": 70
        }
      ]
    },
    {
      "cell_type": "code",
      "source": [
        ""
      ],
      "metadata": {
        "id": "V3IVXhQ901zO"
      },
      "execution_count": 88,
      "outputs": []
    },
    {
      "cell_type": "code",
      "source": [
        "np.std(df)"
      ],
      "metadata": {
        "colab": {
          "base_uri": "https://localhost:8080/"
        },
        "id": "xum2tVnV1S8N",
        "outputId": "e0853722-1bd6-46bd-82c4-766725257e8f"
      },
      "execution_count": 72,
      "outputs": [
        {
          "output_type": "execute_result",
          "data": {
            "text/plain": [
              "0    5.41415\n",
              "dtype: float64"
            ]
          },
          "metadata": {},
          "execution_count": 72
        }
      ]
    },
    {
      "cell_type": "markdown",
      "source": [
        "##mean"
      ],
      "metadata": {
        "id": "O5ziegwebgPj"
      }
    },
    {
      "cell_type": "code",
      "source": [
        "men = sum(list_)/len(list_)"
      ],
      "metadata": {
        "id": "KJVxKyrsZg66"
      },
      "execution_count": 73,
      "outputs": []
    },
    {
      "cell_type": "code",
      "source": [
        "men"
      ],
      "metadata": {
        "colab": {
          "base_uri": "https://localhost:8080/"
        },
        "id": "i7f95WiKZsHe",
        "outputId": "3c739497-bd7f-4d96-80fd-444185942532"
      },
      "execution_count": 74,
      "outputs": [
        {
          "output_type": "execute_result",
          "data": {
            "text/plain": [
              "6.052631578947368"
            ]
          },
          "metadata": {},
          "execution_count": 74
        }
      ]
    },
    {
      "cell_type": "code",
      "source": [
        "np.mean(df)"
      ],
      "metadata": {
        "colab": {
          "base_uri": "https://localhost:8080/"
        },
        "id": "h40dxT4KLw9n",
        "outputId": "6840a989-7a72-44bb-9a59-f7c3ef023da7"
      },
      "execution_count": 108,
      "outputs": [
        {
          "output_type": "execute_result",
          "data": {
            "text/plain": [
              "0    6.052632\n",
              "dtype: float64"
            ]
          },
          "metadata": {},
          "execution_count": 108
        }
      ]
    },
    {
      "cell_type": "markdown",
      "source": [
        "##median"
      ],
      "metadata": {
        "id": "4FmySIU8bc8w"
      }
    },
    {
      "cell_type": "code",
      "source": [
        "# Median\n",
        "sort = np.sort(list_)"
      ],
      "metadata": {
        "id": "vhPZ38lEZs_-"
      },
      "execution_count": 75,
      "outputs": []
    },
    {
      "cell_type": "code",
      "source": [
        "n = len(list_)"
      ],
      "metadata": {
        "id": "Qdf86rl2aY4X"
      },
      "execution_count": 76,
      "outputs": []
    },
    {
      "cell_type": "code",
      "source": [
        "median_position = (n + 1)/2"
      ],
      "metadata": {
        "id": "wkHVdGm5amHa"
      },
      "execution_count": 77,
      "outputs": []
    },
    {
      "cell_type": "code",
      "source": [
        "median_position"
      ],
      "metadata": {
        "colab": {
          "base_uri": "https://localhost:8080/"
        },
        "id": "mYAFEN4_anhd",
        "outputId": "36305674-f801-4fdf-982d-274fc7286cf8"
      },
      "execution_count": 78,
      "outputs": [
        {
          "output_type": "execute_result",
          "data": {
            "text/plain": [
              "10.0"
            ]
          },
          "metadata": {},
          "execution_count": 78
        }
      ]
    },
    {
      "cell_type": "code",
      "source": [
        "median = list_[int(median_position) - 1]\n",
        "print('Median is : ', median)"
      ],
      "metadata": {
        "colab": {
          "base_uri": "https://localhost:8080/"
        },
        "id": "NcmWmC7TapF8",
        "outputId": "c1d9487e-c773-4586-b317-a767e6c0591c"
      },
      "execution_count": 79,
      "outputs": [
        {
          "output_type": "stream",
          "name": "stdout",
          "text": [
            "Median is :  5\n"
          ]
        }
      ]
    },
    {
      "cell_type": "code",
      "source": [
        "np.median(df)"
      ],
      "metadata": {
        "colab": {
          "base_uri": "https://localhost:8080/"
        },
        "id": "QPxg72QtL8nr",
        "outputId": "fb036801-530c-469f-ed3b-bbe53f7933cd"
      },
      "execution_count": 109,
      "outputs": [
        {
          "output_type": "execute_result",
          "data": {
            "text/plain": [
              "5.0"
            ]
          },
          "metadata": {},
          "execution_count": 109
        }
      ]
    },
    {
      "cell_type": "markdown",
      "source": [
        ""
      ],
      "metadata": {
        "id": "1zsB5ah-L8Qj"
      }
    },
    {
      "cell_type": "markdown",
      "source": [
        "##mode"
      ],
      "metadata": {
        "id": "qGFm3ApPbaxZ"
      }
    },
    {
      "cell_type": "code",
      "source": [
        "# mode\n",
        "unique_elements, freq = np.unique(list_, return_counts = True)\n",
        "print(unique_elements)\n",
        "print(freq)"
      ],
      "metadata": {
        "colab": {
          "base_uri": "https://localhost:8080/"
        },
        "id": "MKhbWn64a2MF",
        "outputId": "6a6bc2cc-b269-4499-abf9-c5c4c5b463b3"
      },
      "execution_count": 80,
      "outputs": [
        {
          "output_type": "stream",
          "name": "stdout",
          "text": [
            "[ 1  2  3  4  5  6  7  8  9 27]\n",
            "[1 3 2 1 3 4 1 2 1 1]\n"
          ]
        }
      ]
    },
    {
      "cell_type": "code",
      "source": [
        "max_freq = np.max(freq)\n",
        "mode_index = np.where(freq == max_freq)\n",
        "mode = list_[mode_index]"
      ],
      "metadata": {
        "colab": {
          "base_uri": "https://localhost:8080/",
          "height": 200
        },
        "id": "vaO0f7DmbFz9",
        "outputId": "1533c4ac-9964-4d10-f220-070745d72100"
      },
      "execution_count": 112,
      "outputs": [
        {
          "output_type": "error",
          "ename": "TypeError",
          "evalue": "ignored",
          "traceback": [
            "\u001b[0;31m---------------------------------------------------------------------------\u001b[0m",
            "\u001b[0;31mTypeError\u001b[0m                                 Traceback (most recent call last)",
            "\u001b[0;32m<ipython-input-112-2bf9832a23ba>\u001b[0m in \u001b[0;36m<module>\u001b[0;34m()\u001b[0m\n\u001b[1;32m      1\u001b[0m \u001b[0mmax_freq\u001b[0m \u001b[0;34m=\u001b[0m \u001b[0mnp\u001b[0m\u001b[0;34m.\u001b[0m\u001b[0mmax\u001b[0m\u001b[0;34m(\u001b[0m\u001b[0mfreq\u001b[0m\u001b[0;34m)\u001b[0m\u001b[0;34m\u001b[0m\u001b[0;34m\u001b[0m\u001b[0m\n\u001b[1;32m      2\u001b[0m \u001b[0mmode_index\u001b[0m \u001b[0;34m=\u001b[0m \u001b[0mnp\u001b[0m\u001b[0;34m.\u001b[0m\u001b[0mwhere\u001b[0m\u001b[0;34m(\u001b[0m\u001b[0mfreq\u001b[0m \u001b[0;34m==\u001b[0m \u001b[0mmax_freq\u001b[0m\u001b[0;34m)\u001b[0m\u001b[0;34m\u001b[0m\u001b[0;34m\u001b[0m\u001b[0m\n\u001b[0;32m----> 3\u001b[0;31m \u001b[0mmode\u001b[0m \u001b[0;34m=\u001b[0m \u001b[0mlist_\u001b[0m\u001b[0;34m[\u001b[0m\u001b[0mmode_index\u001b[0m\u001b[0;34m]\u001b[0m\u001b[0;34m\u001b[0m\u001b[0;34m\u001b[0m\u001b[0m\n\u001b[0m",
            "\u001b[0;31mTypeError\u001b[0m: list indices must be integers or slices, not tuple"
          ]
        }
      ]
    },
    {
      "cell_type": "code",
      "source": [
        "import statistics\n",
        "from statistics import mode\n",
        "# print(mode(df))\n",
        "# statistics.mode(df)"
      ],
      "metadata": {
        "colab": {
          "base_uri": "https://localhost:8080/"
        },
        "id": "3XZszhzAMMRM",
        "outputId": "e53d8b5b-07ee-4ffc-dfe6-52115f291fae"
      },
      "execution_count": 113,
      "outputs": [
        {
          "output_type": "execute_result",
          "data": {
            "text/plain": [
              "0"
            ]
          },
          "metadata": {},
          "execution_count": 113
        }
      ]
    },
    {
      "cell_type": "markdown",
      "source": [
        ""
      ],
      "metadata": {
        "id": "ilen6fQ8ML7j"
      }
    },
    {
      "cell_type": "markdown",
      "source": [
        "##Boxplot"
      ],
      "metadata": {
        "id": "9f2PEQC2JF9X"
      }
    },
    {
      "cell_type": "code",
      "source": [
        "ax = sns.boxplot(list_)"
      ],
      "metadata": {
        "colab": {
          "base_uri": "https://localhost:8080/",
          "height": 320
        },
        "id": "7QUdKO7mbN_N",
        "outputId": "7b7abf33-7a3f-46d2-f23a-62c2cc2ae503"
      },
      "execution_count": 82,
      "outputs": [
        {
          "output_type": "stream",
          "name": "stderr",
          "text": [
            "/usr/local/lib/python3.7/dist-packages/seaborn/_decorators.py:43: FutureWarning: Pass the following variable as a keyword arg: x. From version 0.12, the only valid positional argument will be `data`, and passing other arguments without an explicit keyword will result in an error or misinterpretation.\n",
            "  FutureWarning\n"
          ]
        },
        {
          "output_type": "display_data",
          "data": {
            "text/plain": [
              "<Figure size 432x288 with 1 Axes>"
            ],
            "image/png": "[encoded data removed]"
          },
          "metadata": {
            "needs_background": "light"
          }
        }
      ]
    },
    {
      "cell_type": "code",
      "source": [
        "list_ = [1,2,2,2,3,3,4,5,5,5,6,6,6,6,7,8,8,9,27]"
      ],
      "metadata": {
        "id": "d2XpUqgH1ueP"
      },
      "execution_count": 83,
      "outputs": []
    },
    {
      "cell_type": "code",
      "source": [
        "mean = sum(list_)/len(list_)\n",
        "mean"
      ],
      "metadata": {
        "colab": {
          "base_uri": "https://localhost:8080/"
        },
        "id": "owf5Feb-1vGx",
        "outputId": "bb6df5c6-5444-4e41-e578-5b6199f31722"
      },
      "execution_count": 84,
      "outputs": [
        {
          "output_type": "execute_result",
          "data": {
            "text/plain": [
              "6.052631578947368"
            ]
          },
          "metadata": {},
          "execution_count": 84
        }
      ]
    },
    {
      "cell_type": "markdown",
      "source": [
        "## Variance"
      ],
      "metadata": {
        "id": "Y2aTt-nDJxCg"
      }
    },
    {
      "cell_type": "code",
      "source": [
        "abc=[]\n",
        "for i in list_:\n",
        "  ab = i - mean\n",
        "  ab_s = ab**2\n",
        "  abc.append(round(ab_s,2))\n",
        "  # print(round(ab_s,2))\n",
        "  print(abc)"
      ],
      "metadata": {
        "colab": {
          "base_uri": "https://localhost:8080/"
        },
        "id": "ER3NNtdi15Pk",
        "outputId": "5f02b3d3-cfaf-4cdc-dc53-0f27b1119292"
      },
      "execution_count": 107,
      "outputs": [
        {
          "output_type": "stream",
          "name": "stdout",
          "text": [
            "[25.53]\n",
            "[25.53, 16.42]\n",
            "[25.53, 16.42, 16.42]\n",
            "[25.53, 16.42, 16.42, 16.42]\n",
            "[25.53, 16.42, 16.42, 16.42, 9.32]\n",
            "[25.53, 16.42, 16.42, 16.42, 9.32, 9.32]\n",
            "[25.53, 16.42, 16.42, 16.42, 9.32, 9.32, 4.21]\n",
            "[25.53, 16.42, 16.42, 16.42, 9.32, 9.32, 4.21, 1.11]\n",
            "[25.53, 16.42, 16.42, 16.42, 9.32, 9.32, 4.21, 1.11, 1.11]\n",
            "[25.53, 16.42, 16.42, 16.42, 9.32, 9.32, 4.21, 1.11, 1.11, 1.11]\n",
            "[25.53, 16.42, 16.42, 16.42, 9.32, 9.32, 4.21, 1.11, 1.11, 1.11, 0.0]\n",
            "[25.53, 16.42, 16.42, 16.42, 9.32, 9.32, 4.21, 1.11, 1.11, 1.11, 0.0, 0.0]\n",
            "[25.53, 16.42, 16.42, 16.42, 9.32, 9.32, 4.21, 1.11, 1.11, 1.11, 0.0, 0.0, 0.0]\n",
            "[25.53, 16.42, 16.42, 16.42, 9.32, 9.32, 4.21, 1.11, 1.11, 1.11, 0.0, 0.0, 0.0, 0.0]\n",
            "[25.53, 16.42, 16.42, 16.42, 9.32, 9.32, 4.21, 1.11, 1.11, 1.11, 0.0, 0.0, 0.0, 0.0, 0.9]\n",
            "[25.53, 16.42, 16.42, 16.42, 9.32, 9.32, 4.21, 1.11, 1.11, 1.11, 0.0, 0.0, 0.0, 0.0, 0.9, 3.79]\n",
            "[25.53, 16.42, 16.42, 16.42, 9.32, 9.32, 4.21, 1.11, 1.11, 1.11, 0.0, 0.0, 0.0, 0.0, 0.9, 3.79, 3.79]\n",
            "[25.53, 16.42, 16.42, 16.42, 9.32, 9.32, 4.21, 1.11, 1.11, 1.11, 0.0, 0.0, 0.0, 0.0, 0.9, 3.79, 3.79, 8.69]\n",
            "[25.53, 16.42, 16.42, 16.42, 9.32, 9.32, 4.21, 1.11, 1.11, 1.11, 0.0, 0.0, 0.0, 0.0, 0.9, 3.79, 3.79, 8.69, 438.79]\n"
          ]
        }
      ]
    },
    {
      "cell_type": "code",
      "source": [
        "varin = sum(abc)/len(abc)\n",
        "varin"
      ],
      "metadata": {
        "colab": {
          "base_uri": "https://localhost:8080/"
        },
        "id": "339WZdlw573z",
        "outputId": "9e537af9-cf25-4226-e1e8-ff96b69fbd0e"
      },
      "execution_count": 86,
      "outputs": [
        {
          "output_type": "execute_result",
          "data": {
            "text/plain": [
              "29.3121052631579"
            ]
          },
          "metadata": {},
          "execution_count": 86
        }
      ]
    },
    {
      "cell_type": "code",
      "source": [
        "np.var(df)"
      ],
      "metadata": {
        "colab": {
          "base_uri": "https://localhost:8080/"
        },
        "id": "EQJ5CgevJoFh",
        "outputId": "d74d4e10-51dd-425f-db96-0a01dcbc31a6"
      },
      "execution_count": 89,
      "outputs": [
        {
          "output_type": "execute_result",
          "data": {
            "text/plain": [
              "0    29.313019\n",
              "dtype: float64"
            ]
          },
          "metadata": {},
          "execution_count": 89
        }
      ]
    },
    {
      "cell_type": "code",
      "source": [
        ""
      ],
      "metadata": {
        "id": "N9nXWoVNJp9X"
      },
      "execution_count": null,
      "outputs": []
    },
    {
      "cell_type": "markdown",
      "source": [
        "## Standard Daviation"
      ],
      "metadata": {
        "id": "3rNI8Os6JqvP"
      }
    },
    {
      "cell_type": "code",
      "source": [
        "import math\n",
        "std = math.sqrt(varin)"
      ],
      "metadata": {
        "id": "gpgiySCn1-en"
      },
      "execution_count": 87,
      "outputs": []
    },
    {
      "cell_type": "code",
      "source": [
        "std"
      ],
      "metadata": {
        "colab": {
          "base_uri": "https://localhost:8080/"
        },
        "id": "fHr2qwEf1-Yd",
        "outputId": "94fd9b45-b6a9-4e05-b044-0ad2a637035f"
      },
      "execution_count": 88,
      "outputs": [
        {
          "output_type": "execute_result",
          "data": {
            "text/plain": [
              "5.4140655022965785"
            ]
          },
          "metadata": {},
          "execution_count": 88
        }
      ]
    },
    {
      "cell_type": "markdown",
      "source": [
        "## IQR"
      ],
      "metadata": {
        "id": "Rb31sm9XKGzt"
      }
    },
    {
      "cell_type": "code",
      "source": [
        "Q1 = np.percentile((df),25)"
      ],
      "metadata": {
        "id": "Rhppou2l1-Vs"
      },
      "execution_count": 95,
      "outputs": []
    },
    {
      "cell_type": "code",
      "source": [
        "Q3 = np.percentile((df),75)"
      ],
      "metadata": {
        "id": "TveuDvqRKb4U"
      },
      "execution_count": 97,
      "outputs": []
    },
    {
      "cell_type": "code",
      "source": [
        "IQR = Q3 - Q1"
      ],
      "metadata": {
        "id": "PQBbjRH4K3pd"
      },
      "execution_count": 100,
      "outputs": []
    },
    {
      "cell_type": "code",
      "source": [
        "IQR"
      ],
      "metadata": {
        "colab": {
          "base_uri": "https://localhost:8080/"
        },
        "id": "zJ6fzSRuK8TD",
        "outputId": "57cc55f2-0142-4960-91d2-a2f37e17fe1d"
      },
      "execution_count": 101,
      "outputs": [
        {
          "output_type": "execute_result",
          "data": {
            "text/plain": [
              "3.5"
            ]
          },
          "metadata": {},
          "execution_count": 101
        }
      ]
    },
    {
      "cell_type": "code",
      "source": [
        ""
      ],
      "metadata": {
        "id": "JvymFnQGK_YN"
      },
      "execution_count": null,
      "outputs": []
    }
  ]
}