{
  "nbformat": 4,
  "nbformat_minor": 0,
  "metadata": {
    "colab": {
      "name": "OBJECT ORIENTED PROGRAMING.ipynb",
      "provenance": [],
      "authorship_tag": "ABX9TyM1iOS/hFaZZtB2AOSppFM3",
      "include_colab_link": true
    },
    "kernelspec": {
      "name": "python3",
      "display_name": "Python 3"
    },
    "language_info": {
      "name": "python"
    }
  },
  "cells": [
    {
      "cell_type": "markdown",
      "metadata": {
        "id": "view-in-github",
        "colab_type": "text"
      },
      "source": [
        "<a href=\"https://colab.research.google.com/github/ajit04022000/python_begginers_codewith_ajit/blob/main/OBJECT_ORIENTED_PROGRAMING.ipynb\" target=\"_parent\"><img src=\"https://colab.research.google.com/assets/colab-badge.svg\" alt=\"Open In Colab\"/></a>"
      ]
    },
    {
      "cell_type": "markdown",
      "source": [
        ""
      ],
      "metadata": {
        "id": "E5uYEoISchYd"
      }
    },
    {
      "cell_type": "markdown",
      "source": [
        "oops.py\n"
      ],
      "metadata": {
        "id": "6TZwExnWcjGU"
      }
    },
    {
      "cell_type": "code",
      "source": [
        "class Employe:\n",
        "  company='Google'\n",
        "  def getsallery(self):\n",
        "    print(f'sallery for this employee working in{self.company} is {self.sallery}')\n",
        "\n",
        "harry = Employe()\n",
        "harry.sallery = 10000\n",
        "harry.getsallery()\n"
      ],
      "metadata": {
        "colab": {
          "base_uri": "https://localhost:8080/"
        },
        "id": "Djsc8mB9w4-U",
        "outputId": "67868ea5-1877-4048-b453-b21c8369bc70"
      },
      "execution_count": 1,
      "outputs": [
        {
          "output_type": "stream",
          "name": "stdout",
          "text": [
            "sallery for this employee working inGoogle is 10000\n"
          ]
        }
      ]
    },
    {
      "cell_type": "markdown",
      "source": [
        "practice set"
      ],
      "metadata": {
        "id": "GBn3Y48z8UDT"
      }
    },
    {
      "cell_type": "code",
      "source": [
        "#create a class programmer for storing information of few programmer working at microshoft."
      ],
      "metadata": {
        "id": "cvcvyGXc8V4p"
      },
      "execution_count": null,
      "outputs": []
    },
    {
      "cell_type": "code",
      "source": [
        "class Programmer:\n",
        "  company = 'Microsoft'\n",
        "  def __init__(self, name, product):\n",
        "    self.name = name\n",
        "    self.product = product\n",
        "\n",
        "  def getinfo(self):\n",
        "    print(f'the name of the {self.company} programmer is {self.name} and the product is {self.product}')\n",
        "\n",
        "harry = Programmer('harry','skype')\n",
        "alka = Programmer('alka','github')\n",
        "harry.getinfo()\n",
        "alka.getinfo()"
      ],
      "metadata": {
        "colab": {
          "base_uri": "https://localhost:8080/"
        },
        "id": "f0yfxl_H8i7W",
        "outputId": "3f8c8b77-e94c-4903-9a56-378b3b34298c"
      },
      "execution_count": 3,
      "outputs": [
        {
          "output_type": "stream",
          "name": "stdout",
          "text": [
            "the name of the Microsoft programmer is harry and the product is skype\n",
            "the name of the Microsoft programmer is alka and the product is github\n"
          ]
        }
      ]
    },
    {
      "cell_type": "code",
      "source": [
        "#write a class calculator capable of finding square cube and squareroot of number.\n",
        "class Calculator:\n",
        "  def __init__ (self,num):\n",
        "    self.number = num\n",
        "\n",
        "  def square(self):\n",
        "    print(f'the value of {self.number} square is {self.number**2} ')\n",
        "\n",
        "  def squareRoot(self):\n",
        "    print(f'the value of {self.number} square root is {self.number**0.5} ')\n",
        "\n",
        "  def cube(self):\n",
        "    print(f'the value of {self.number} cube is {self.number**3} ')\n",
        "\n",
        "a = Calculator(9)\n",
        "a.square()\n",
        "a.squareRoot()\n",
        "a.cube()"
      ],
      "metadata": {
        "colab": {
          "base_uri": "https://localhost:8080/"
        },
        "id": "YGkwpvru_FRg",
        "outputId": "8bdee824-9355-40a8-d33d-7fb34eefeee9"
      },
      "execution_count": 4,
      "outputs": [
        {
          "output_type": "stream",
          "name": "stdout",
          "text": [
            "the value of 9 square is 81 \n",
            "the value of 9 square root is 3.0 \n",
            "the value of 9 cube is 729 \n"
          ]
        }
      ]
    },
    {
      "cell_type": "code",
      "source": [
        "#create a class with a class attribute a ; create an object from it and set a direct\n",
        "#using an object from it and set a direct using object a == 0. does this changes the class attribute.\n",
        "\n",
        "class Sample:\n",
        "  a = 'harry'\n",
        "\n",
        "obj = Sample()\n",
        "obj.a = 'ajit'\n",
        "print(Sample.a)\n",
        "print(obj.a)\n",
        "\n"
      ],
      "metadata": {
        "colab": {
          "base_uri": "https://localhost:8080/"
        },
        "id": "RQ1QTNVNBFG6",
        "outputId": "a4ad95a7-ac1b-400f-9835-6ceb7765ae8a"
      },
      "execution_count": 5,
      "outputs": [
        {
          "output_type": "stream",
          "name": "stdout",
          "text": [
            "harry\n",
            "ajit\n"
          ]
        }
      ]
    },
    {
      "cell_type": "code",
      "source": [
        "#write a class train which has methods to book a ticket , get status (no os seats)\n",
        "#and get fare information of train running under indian railway.\n",
        "\n",
        "class Train:\n",
        "  def __init__ (self, name, fare, seats):\n",
        "    self.name = name\n",
        "    self.fare = fare\n",
        "    self.seats = seats\n",
        "\n",
        "  def getStatus(self):\n",
        "    print(f'the name of the train is {self.name}')\n",
        "    print(f'the seta availabale in the train are {self.seats}')\n",
        "\n",
        "  def fairInfo (self):\n",
        "    print(f'the fair of the train is rs : {self.fare}')\n",
        "\n",
        "  def bookTicket(self):\n",
        "    if(self.seats>0):\n",
        "      print(f\"your ticket has been bookd! tour shates no is {self.seats}\")\n",
        "      self.seats = self.seats - 1\n",
        "    else:\n",
        "      print('sorry this train is full try in tatkal')\n",
        "\n",
        "intercity = Train('intercity express : 14015', 90, 300)\n",
        "intercity.getStatus()\n",
        "intercity.bookTicket()\n",
        "intercity.getStatus()\n",
        "intercity.bookTicket()\n",
        "intercity.getStatus()"
      ],
      "metadata": {
        "colab": {
          "base_uri": "https://localhost:8080/"
        },
        "id": "FGW4jZgSC9-G",
        "outputId": "ef512648-6686-4dac-cf80-4fda41ab8e03"
      },
      "execution_count": 6,
      "outputs": [
        {
          "output_type": "stream",
          "name": "stdout",
          "text": [
            "the name of the train is intercity express : 14015\n",
            "the seta availabale in the train are 300\n",
            "your ticket has been bookd! tour shates no is 300\n",
            "the name of the train is intercity express : 14015\n",
            "the seta availabale in the train are 299\n",
            "your ticket has been bookd! tour shates no is 299\n",
            "the name of the train is intercity express : 14015\n",
            "the seta availabale in the train are 298\n"
          ]
        }
      ]
    },
    {
      "cell_type": "code",
      "source": [
        ""
      ],
      "metadata": {
        "id": "4jla-Ph_FW14"
      },
      "execution_count": 6,
      "outputs": []
    }
  ]
}