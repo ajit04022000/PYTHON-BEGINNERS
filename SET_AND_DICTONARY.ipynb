{
  "nbformat": 4,
  "nbformat_minor": 0,
  "metadata": {
    "colab": {
      "name": "SET AND DICTONARY.ipynb",
      "provenance": [],
      "authorship_tag": "ABX9TyM6+1ie0PRl5RNLU94rIHez",
      "include_colab_link": true
    },
    "kernelspec": {
      "name": "python3",
      "display_name": "Python 3"
    },
    "language_info": {
      "name": "python"
    }
  },
  "cells": [
    {
      "cell_type": "markdown",
      "metadata": {
        "id": "view-in-github",
        "colab_type": "text"
      },
      "source": [
        "<a href=\"https://colab.research.google.com/github/ajit04022000/python_begginers/blob/main/SET_AND_DICTONARY.ipynb\" target=\"_parent\"><img src=\"https://colab.research.google.com/assets/colab-badge.svg\" alt=\"Open In Colab\"/></a>"
      ]
    },
    {
      "cell_type": "markdown",
      "source": [
        "# DICTONARY"
      ],
      "metadata": {
        "id": "7dZumZ1Whul0"
      }
    },
    {
      "cell_type": "code",
      "source": [
        "#collection of key value pair"
      ],
      "metadata": {
        "id": "4s4plAI9hy_K"
      },
      "execution_count": null,
      "outputs": []
    },
    {
      "cell_type": "code",
      "source": [
        "my_dict = {\"ajit\":\"good boy\" , \"mark\":[100,50,60], \"village\":\"patuadihi\" , \"father\":\"l.n.patel\", \"friends\":{\"siku\",\"pandiya\",\"bhart\"}}"
      ],
      "metadata": {
        "id": "vD-_fRgOiFf6"
      },
      "execution_count": null,
      "outputs": []
    },
    {
      "cell_type": "code",
      "source": [
        "my_dict[\"ajit\"]"
      ],
      "metadata": {
        "colab": {
          "base_uri": "https://localhost:8080/",
          "height": 35
        },
        "id": "1CbZdZ7LizHx",
        "outputId": "dacc22d1-c65b-4d56-a2ea-a4771b4274e1"
      },
      "execution_count": null,
      "outputs": [
        {
          "output_type": "execute_result",
          "data": {
            "application/vnd.google.colaboratory.intrinsic+json": {
              "type": "string"
            },
            "text/plain": [
              "'good boy'"
            ]
          },
          "metadata": {},
          "execution_count": 15
        }
      ]
    },
    {
      "cell_type": "code",
      "source": [
        "my_dict[\"mark\"]"
      ],
      "metadata": {
        "colab": {
          "base_uri": "https://localhost:8080/"
        },
        "id": "6RodG0nyi5m2",
        "outputId": "d02365cf-b003-43f0-95a0-9142d530a155"
      },
      "execution_count": null,
      "outputs": [
        {
          "output_type": "execute_result",
          "data": {
            "text/plain": [
              "[100, 50, 60]"
            ]
          },
          "metadata": {},
          "execution_count": 13
        }
      ]
    },
    {
      "cell_type": "code",
      "source": [
        "my_dict[\"mark\"] =[11,15,25]"
      ],
      "metadata": {
        "id": "w6IYQFI-kVzz"
      },
      "execution_count": null,
      "outputs": []
    },
    {
      "cell_type": "code",
      "source": [
        "print(my_dict)"
      ],
      "metadata": {
        "colab": {
          "base_uri": "https://localhost:8080/"
        },
        "id": "jAVV_MVckb_L",
        "outputId": "a4c0fae3-594b-4c41-f722-463fe2940738"
      },
      "execution_count": null,
      "outputs": [
        {
          "output_type": "stream",
          "name": "stdout",
          "text": [
            "{'ajit': 'good boy', 'mark': [11, 15, 25], 'village': 'patuadihi', 'father': 'l.n.patel', 'friends': {'bhart', 'siku', 'pandiya'}}\n"
          ]
        }
      ]
    },
    {
      "cell_type": "code",
      "source": [
        "my_dict[\"friends\"]"
      ],
      "metadata": {
        "colab": {
          "base_uri": "https://localhost:8080/"
        },
        "id": "p0SvJTjcjp-n",
        "outputId": "c5aacc6f-e189-4bd1-fa1e-a58c3cf66e11"
      },
      "execution_count": null,
      "outputs": [
        {
          "output_type": "execute_result",
          "data": {
            "text/plain": [
              "{'bhart', 'pandiya', 'siku'}"
            ]
          },
          "metadata": {},
          "execution_count": 16
        }
      ]
    },
    {
      "cell_type": "code",
      "source": [
        ""
      ],
      "metadata": {
        "id": "Se-sUp8yj5cV"
      },
      "execution_count": null,
      "outputs": []
    },
    {
      "cell_type": "markdown",
      "source": [
        "# METHODS OF DICTONARY"
      ],
      "metadata": {
        "id": "4i_IeVS2kl2J"
      }
    },
    {
      "cell_type": "code",
      "source": [
        "my_dict = {\"ajit\":\"good boy\" , \"mark\":[100,50,60], \"village\":\"patuadihi\" , \"father\":\"l.n.patel\", \"friends\":{\"siku\",\"pandiya\",\"bhart\"},1:5}\n"
      ],
      "metadata": {
        "id": "XAMNxYhvkliq"
      },
      "execution_count": null,
      "outputs": []
    },
    {
      "cell_type": "code",
      "source": [
        "# .keys() method\n",
        "my_dict.keys()    "
      ],
      "metadata": {
        "colab": {
          "base_uri": "https://localhost:8080/"
        },
        "id": "rITCWBI-kvI_",
        "outputId": "b9172f53-c6a4-482f-a410-492187ec34d9"
      },
      "execution_count": null,
      "outputs": [
        {
          "output_type": "execute_result",
          "data": {
            "text/plain": [
              "dict_keys(['ajit', 'mark', 'village', 'father', 'friends', 1])"
            ]
          },
          "metadata": {},
          "execution_count": 26
        }
      ]
    },
    {
      "cell_type": "code",
      "source": [
        "len(my_dict.keys())"
      ],
      "metadata": {
        "colab": {
          "base_uri": "https://localhost:8080/"
        },
        "id": "0qDroM-Hkz4y",
        "outputId": "dc6c7795-ce01-471b-9fc1-7edd3884136d"
      },
      "execution_count": null,
      "outputs": [
        {
          "output_type": "execute_result",
          "data": {
            "text/plain": [
              "6"
            ]
          },
          "metadata": {},
          "execution_count": 27
        }
      ]
    },
    {
      "cell_type": "code",
      "source": [
        "print(list(my_dict.keys()))"
      ],
      "metadata": {
        "colab": {
          "base_uri": "https://localhost:8080/"
        },
        "id": "W3VUtj4NlJ6X",
        "outputId": "55451496-0637-4228-f868-f373b8fa19f4"
      },
      "execution_count": null,
      "outputs": [
        {
          "output_type": "stream",
          "name": "stdout",
          "text": [
            "['ajit', 'mark', 'village', 'father', 'friends', 1]\n"
          ]
        }
      ]
    },
    {
      "cell_type": "code",
      "source": [
        "# . values () method\n",
        "my_dict . values()"
      ],
      "metadata": {
        "colab": {
          "base_uri": "https://localhost:8080/"
        },
        "id": "Gk8LODEClTIP",
        "outputId": "3e408a89-2784-48c3-b5fd-630aef7b5b75"
      },
      "execution_count": null,
      "outputs": [
        {
          "output_type": "execute_result",
          "data": {
            "text/plain": [
              "dict_values(['good boy', [100, 50, 60], 'patuadihi', 'l.n.patel', {'bhart', 'siku', 'pandiya'}, 5])"
            ]
          },
          "metadata": {},
          "execution_count": 30
        }
      ]
    },
    {
      "cell_type": "code",
      "source": [
        "# . items ()\n",
        "my_dict.items()"
      ],
      "metadata": {
        "colab": {
          "base_uri": "https://localhost:8080/"
        },
        "id": "mAdoDT-olt39",
        "outputId": "6e54b339-ac37-4fd6-80d6-7c350905899c"
      },
      "execution_count": null,
      "outputs": [
        {
          "output_type": "execute_result",
          "data": {
            "text/plain": [
              "dict_items([('ajit', 'good boy'), ('mark', [100, 50, 60]), ('village', 'patuadihi'), ('father', 'l.n.patel'), ('friends', {'bhart', 'siku', 'pandiya'}), (1, 5)])"
            ]
          },
          "metadata": {},
          "execution_count": 31
        }
      ]
    },
    {
      "cell_type": "code",
      "source": [
        "# .get()\n",
        "my_dict.get('mark')"
      ],
      "metadata": {
        "colab": {
          "base_uri": "https://localhost:8080/"
        },
        "id": "O_48vN1jl_GQ",
        "outputId": "46668bc8-a0ba-4d40-a5f3-bc61b817a4cd"
      },
      "execution_count": null,
      "outputs": [
        {
          "output_type": "execute_result",
          "data": {
            "text/plain": [
              "[100, 50, 60]"
            ]
          },
          "metadata": {},
          "execution_count": 32
        }
      ]
    },
    {
      "cell_type": "code",
      "source": [
        "# . update()     update the dictonary by adding key values pairs from a and update the exasting value of a key\n",
        "\n",
        "\n",
        "a = {12:15,15:16}\n",
        "my_dict.update(a)"
      ],
      "metadata": {
        "id": "jK_PZc8qmKob"
      },
      "execution_count": null,
      "outputs": []
    },
    {
      "cell_type": "code",
      "source": [
        "my_dict"
      ],
      "metadata": {
        "colab": {
          "base_uri": "https://localhost:8080/"
        },
        "id": "tp1TyGX7mbs3",
        "outputId": "b940a161-43b7-4667-d7ec-1e505d9d0855"
      },
      "execution_count": null,
      "outputs": [
        {
          "output_type": "execute_result",
          "data": {
            "text/plain": [
              "{1: 5,\n",
              " 12: 15,\n",
              " 15: 16,\n",
              " 'ajit': 'good boy',\n",
              " 'father': 'l.n.patel',\n",
              " 'friends': {'bhart', 'pandiya', 'siku'},\n",
              " 'mark': [100, 50, 60],\n",
              " 'village': 'patuadihi'}"
            ]
          },
          "metadata": {},
          "execution_count": 35
        }
      ]
    },
    {
      "cell_type": "code",
      "source": [
        "print(my_dict)"
      ],
      "metadata": {
        "colab": {
          "base_uri": "https://localhost:8080/"
        },
        "id": "dpeGP90jmr4-",
        "outputId": "3d008fed-5453-44bb-d9f5-cc05df9d669e"
      },
      "execution_count": null,
      "outputs": [
        {
          "output_type": "stream",
          "name": "stdout",
          "text": [
            "{'ajit': 'good boy', 'mark': [100, 50, 60], 'village': 'patuadihi', 'father': 'l.n.patel', 'friends': {'bhart', 'siku', 'pandiya'}, 1: 5, 12: 15, 15: 16}\n"
          ]
        }
      ]
    },
    {
      "cell_type": "code",
      "source": [
        "# .get(\"x\") to find a valu by the using of key"
      ],
      "metadata": {
        "id": "y4k1LNRPmvy3"
      },
      "execution_count": null,
      "outputs": []
    },
    {
      "cell_type": "code",
      "source": [
        "my_dict"
      ],
      "metadata": {
        "colab": {
          "base_uri": "https://localhost:8080/"
        },
        "id": "v7ImjgXUnq2q",
        "outputId": "f8a8e4c1-2a21-4090-f1ef-bfefec22a7c0"
      },
      "execution_count": null,
      "outputs": [
        {
          "output_type": "execute_result",
          "data": {
            "text/plain": [
              "{1: 5,\n",
              " 12: 15,\n",
              " 15: 16,\n",
              " 'ajit': 'good boy',\n",
              " 'father': 'l.n.patel',\n",
              " 'friends': {'bhart', 'pandiya', 'siku'},\n",
              " 'mark': [100, 50, 60],\n",
              " 'village': 'patuadihi'}"
            ]
          },
          "metadata": {},
          "execution_count": 39
        }
      ]
    },
    {
      "cell_type": "code",
      "source": [
        "print(my_dict.get(\"name\"))    #if the key is not present in the dict then its give us the value NONE but if it is present it's give us the desire value"
      ],
      "metadata": {
        "colab": {
          "base_uri": "https://localhost:8080/"
        },
        "id": "tH2t2Bp3ntO6",
        "outputId": "4fc7f121-bf91-46e9-9023-cc444433cf28"
      },
      "execution_count": null,
      "outputs": [
        {
          "output_type": "stream",
          "name": "stdout",
          "text": [
            "None\n"
          ]
        }
      ]
    },
    {
      "cell_type": "code",
      "source": [
        "print(my_dict.get(\"ajit\"))"
      ],
      "metadata": {
        "colab": {
          "base_uri": "https://localhost:8080/"
        },
        "id": "aBls33wmnyGS",
        "outputId": "be48fda1-1b34-40bc-c944-f64066420e52"
      },
      "execution_count": null,
      "outputs": [
        {
          "output_type": "stream",
          "name": "stdout",
          "text": [
            "good boy\n"
          ]
        }
      ]
    },
    {
      "cell_type": "code",
      "source": [
        ""
      ],
      "metadata": {
        "id": "te9p-kEBoPBE"
      },
      "execution_count": null,
      "outputs": []
    },
    {
      "cell_type": "markdown",
      "source": [
        "#sets"
      ],
      "metadata": {
        "id": "W-iJwq8Ao46r"
      }
    },
    {
      "cell_type": "code",
      "source": [
        "#set is a collection of non repatative element"
      ],
      "metadata": {
        "id": "bPWarJ2zo7EC"
      },
      "execution_count": null,
      "outputs": []
    },
    {
      "cell_type": "code",
      "source": [
        "a = {1,2,3,4,4,4,5,5,5}\n",
        "print(a)\n",
        "type(a)\n"
      ],
      "metadata": {
        "colab": {
          "base_uri": "https://localhost:8080/"
        },
        "id": "yGuD5hlkpCmc",
        "outputId": "44f421e6-ee4d-4ad9-89fd-eb8364b39581"
      },
      "execution_count": null,
      "outputs": [
        {
          "output_type": "stream",
          "name": "stdout",
          "text": [
            "{1, 2, 3, 4, 5}\n"
          ]
        },
        {
          "output_type": "execute_result",
          "data": {
            "text/plain": [
              "set"
            ]
          },
          "metadata": {},
          "execution_count": 49
        }
      ]
    },
    {
      "cell_type": "code",
      "source": [
        "# empty set    if we this a = {} this is an empty set so we wrong this is an empty dict\n",
        "a = set()"
      ],
      "metadata": {
        "id": "b0YCM9dzpLZU"
      },
      "execution_count": null,
      "outputs": []
    },
    {
      "cell_type": "code",
      "source": [
        "type (a)"
      ],
      "metadata": {
        "colab": {
          "base_uri": "https://localhost:8080/"
        },
        "id": "lfd47R0PpMfQ",
        "outputId": "ee64a593-f9e6-491a-8574-df6bc9704ab4"
      },
      "execution_count": null,
      "outputs": [
        {
          "output_type": "execute_result",
          "data": {
            "text/plain": [
              "set"
            ]
          },
          "metadata": {},
          "execution_count": 55
        }
      ]
    },
    {
      "cell_type": "code",
      "source": [
        "# . add(\"x\") by this method we add something to our dictonary\n",
        "a .add(45)\n",
        "print(a)"
      ],
      "metadata": {
        "colab": {
          "base_uri": "https://localhost:8080/"
        },
        "id": "oPd_z1FXpNr4",
        "outputId": "6303f3ca-7d43-4341-a51b-e527e1d3325e"
      },
      "execution_count": null,
      "outputs": [
        {
          "output_type": "stream",
          "name": "stdout",
          "text": [
            "{48, 45}\n"
          ]
        }
      ]
    },
    {
      "cell_type": "code",
      "source": [
        "#.update method is used to add another set to our exasting set\n",
        "a . update([4,46,48])\n",
        "print(a)"
      ],
      "metadata": {
        "colab": {
          "base_uri": "https://localhost:8080/"
        },
        "id": "ffvVEfd7qVm_",
        "outputId": "3230cf2e-84a2-4416-d09b-3f99489ed0be"
      },
      "execution_count": null,
      "outputs": [
        {
          "output_type": "stream",
          "name": "stdout",
          "text": [
            "{48, 4, 45, 46}\n"
          ]
        }
      ]
    },
    {
      "cell_type": "code",
      "source": [
        "a.remove(46)"
      ],
      "metadata": {
        "id": "GD0yGRaOqkyb"
      },
      "execution_count": null,
      "outputs": []
    },
    {
      "cell_type": "code",
      "source": [
        "a"
      ],
      "metadata": {
        "colab": {
          "base_uri": "https://localhost:8080/"
        },
        "id": "qC5HUsVoyFLT",
        "outputId": "fd26ab47-eac7-472b-e38f-37ea73fdaa3d"
      },
      "execution_count": null,
      "outputs": [
        {
          "output_type": "execute_result",
          "data": {
            "text/plain": [
              "{4, 45, 48}"
            ]
          },
          "metadata": {},
          "execution_count": 74
        }
      ]
    },
    {
      "cell_type": "code",
      "source": [
        "a ={1,2,3,4,5,6}\n",
        "b = {8,9,5,6,1,2,4}"
      ],
      "metadata": {
        "id": "to3Y4Xxzy5PR"
      },
      "execution_count": null,
      "outputs": []
    },
    {
      "cell_type": "code",
      "source": [
        "a | b"
      ],
      "metadata": {
        "colab": {
          "base_uri": "https://localhost:8080/"
        },
        "id": "WfA6hObFzIAx",
        "outputId": "2225133c-ff6f-478c-dc26-a1959001e18d"
      },
      "execution_count": null,
      "outputs": [
        {
          "output_type": "execute_result",
          "data": {
            "text/plain": [
              "{1, 2, 3, 4, 5, 6, 8, 9}"
            ]
          },
          "metadata": {},
          "execution_count": 80
        }
      ]
    },
    {
      "cell_type": "code",
      "source": [
        "a &b"
      ],
      "metadata": {
        "colab": {
          "base_uri": "https://localhost:8080/"
        },
        "id": "zd9GvExJzRGK",
        "outputId": "16b0cfc4-7d56-4521-fde0-c7465d3c918f"
      },
      "execution_count": null,
      "outputs": [
        {
          "output_type": "execute_result",
          "data": {
            "text/plain": [
              "{1, 2, 4, 5, 6}"
            ]
          },
          "metadata": {},
          "execution_count": 81
        }
      ]
    },
    {
      "cell_type": "code",
      "source": [
        "a-b"
      ],
      "metadata": {
        "colab": {
          "base_uri": "https://localhost:8080/"
        },
        "id": "J9SLPCbnznpv",
        "outputId": "d635150c-faba-44aa-f182-431b050a6f45"
      },
      "execution_count": null,
      "outputs": [
        {
          "output_type": "execute_result",
          "data": {
            "text/plain": [
              "{3}"
            ]
          },
          "metadata": {},
          "execution_count": 82
        }
      ]
    },
    {
      "cell_type": "code",
      "source": [
        "b-a"
      ],
      "metadata": {
        "colab": {
          "base_uri": "https://localhost:8080/"
        },
        "id": "0HOazllczpmH",
        "outputId": "9b570d1f-358f-4e56-8831-ee53be865cd7"
      },
      "execution_count": null,
      "outputs": [
        {
          "output_type": "execute_result",
          "data": {
            "text/plain": [
              "{8, 9}"
            ]
          },
          "metadata": {},
          "execution_count": 83
        }
      ]
    },
    {
      "cell_type": "code",
      "source": [
        "my_set = {5,7,9,3}"
      ],
      "metadata": {
        "id": "5IqyziR-zrny"
      },
      "execution_count": null,
      "outputs": []
    },
    {
      "cell_type": "code",
      "source": [
        "my_set.update([\"2\",\"3\",\"4\"])"
      ],
      "metadata": {
        "id": "LF__XQw3CytR"
      },
      "execution_count": null,
      "outputs": []
    },
    {
      "cell_type": "code",
      "source": [
        "print(my_set)"
      ],
      "metadata": {
        "colab": {
          "base_uri": "https://localhost:8080/"
        },
        "id": "aUPkdwkxC4HZ",
        "outputId": "8c77298a-dbc8-48e0-e095-e32245291843"
      },
      "execution_count": null,
      "outputs": [
        {
          "output_type": "stream",
          "name": "stdout",
          "text": [
            "{3, '4', 5, 7, 9, '2', '3'}\n"
          ]
        }
      ]
    },
    {
      "cell_type": "code",
      "source": [
        ""
      ],
      "metadata": {
        "id": "NSCDNEQxDMNy"
      },
      "execution_count": null,
      "outputs": []
    }
  ]
}