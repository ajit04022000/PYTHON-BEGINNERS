{
  "nbformat": 4,
  "nbformat_minor": 0,
  "metadata": {
    "colab": {
      "name": "TESTING.ipynb",
      "provenance": [],
      "authorship_tag": "ABX9TyMJs3EoXfnFljjrTxeNsGjv",
      "include_colab_link": true
    },
    "kernelspec": {
      "name": "python3",
      "display_name": "Python 3"
    },
    "language_info": {
      "name": "python"
    }
  },
  "cells": [
    {
      "cell_type": "markdown",
      "metadata": {
        "id": "view-in-github",
        "colab_type": "text"
      },
      "source": [
        "<a href=\"https://colab.research.google.com/github/ajit04022000/python_begginers_codewith_ajit/blob/main/TESTING.ipynb\" target=\"_parent\"><img src=\"https://colab.research.google.com/assets/colab-badge.svg\" alt=\"Open In Colab\"/></a>"
      ]
    },
    {
      "cell_type": "code",
      "execution_count": null,
      "metadata": {
        "colab": {
          "base_uri": "https://localhost:8080/"
        },
        "id": "Knxi6fYaO7mL",
        "outputId": "47494232-1b50-4e83-8c7c-740f629d2c79"
      },
      "outputs": [
        {
          "output_type": "stream",
          "name": "stdout",
          "text": [
            "<built-in method replace of str object at 0x7f01e4cd0d70> 12 100\n"
          ]
        }
      ],
      "source": [
        "print('xyyxyyxyxyxy'.replace,\"12\",100)"
      ]
    },
    {
      "cell_type": "code",
      "source": [
        "A =[[1,2,3],[4,5,6],[7,8,9]]"
      ],
      "metadata": {
        "id": "EuWa2Y5fPFDK"
      },
      "execution_count": null,
      "outputs": []
    },
    {
      "cell_type": "code",
      "source": [
        "[A[row][1] for row in (0,1,2)]"
      ],
      "metadata": {
        "colab": {
          "base_uri": "https://localhost:8080/"
        },
        "id": "I4r3qW4iPfZz",
        "outputId": "cb580303-194a-40d4-9b82-4160dffc6d60"
      },
      "execution_count": null,
      "outputs": [
        {
          "output_type": "execute_result",
          "data": {
            "text/plain": [
              "[2, 5, 8]"
            ]
          },
          "metadata": {},
          "execution_count": 27
        }
      ]
    },
    {
      "cell_type": "code",
      "source": [
        "print(12 ^ 2)"
      ],
      "metadata": {
        "colab": {
          "base_uri": "https://localhost:8080/"
        },
        "id": "ZMPpflaEPpFr",
        "outputId": "f8e17c96-c4e6-476c-87a1-bf7bbbc5c6f5"
      },
      "execution_count": null,
      "outputs": [
        {
          "output_type": "stream",
          "name": "stdout",
          "text": [
            "14\n"
          ]
        }
      ]
    },
    {
      "cell_type": "code",
      "source": [
        "print('xyyzxyzxzxyy'.count('xyz',2,11))"
      ],
      "metadata": {
        "colab": {
          "base_uri": "https://localhost:8080/"
        },
        "id": "ryOhol4CQnpB",
        "outputId": "dc83cc09-1f3d-4557-98a7-95c3f9aed5a1"
      },
      "execution_count": null,
      "outputs": [
        {
          "output_type": "stream",
          "name": "stdout",
          "text": [
            "1\n"
          ]
        }
      ]
    },
    {
      "cell_type": "code",
      "source": [
        ""
      ],
      "metadata": {
        "id": "pzb0gKGbVV7h"
      },
      "execution_count": null,
      "outputs": []
    }
  ]
}