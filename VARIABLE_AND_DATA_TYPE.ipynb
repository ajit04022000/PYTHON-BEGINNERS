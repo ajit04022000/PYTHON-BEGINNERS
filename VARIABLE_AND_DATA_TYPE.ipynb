{
  "nbformat": 4,
  "nbformat_minor": 0,
  "metadata": {
    "colab": {
      "name": "VARIABLE AND DATA TYPE.ipynb",
      "provenance": [],
      "toc_visible": true,
      "authorship_tag": "ABX9TyMjQ46kpWbHMOzJVJrfGj9t",
      "include_colab_link": true
    },
    "kernelspec": {
      "name": "python3",
      "display_name": "Python 3"
    },
    "language_info": {
      "name": "python"
    }
  },
  "cells": [
    {
      "cell_type": "markdown",
      "metadata": {
        "id": "view-in-github",
        "colab_type": "text"
      },
      "source": [
        "<a href=\"https://colab.research.google.com/github/ajit04022000/python_begginers/blob/main/VARIABLE_AND_DATA_TYPE.ipynb\" target=\"_parent\"><img src=\"https://colab.research.google.com/assets/colab-badge.svg\" alt=\"Open In Colab\"/></a>"
      ]
    },
    {
      "cell_type": "markdown",
      "source": [
        "## code with harry\n",
        "#variable and data tpype\n",
        "#02_pyhton.py"
      ],
      "metadata": {
        "id": "5sdIVHnABjBL"
      }
    },
    {
      "cell_type": "markdown",
      "source": [
        "#string"
      ],
      "metadata": {
        "id": "F24mWymlEUw_"
      }
    },
    {
      "cell_type": "code",
      "source": [
        "a = \"ajit\""
      ],
      "metadata": {
        "id": "wZqbXwCVEJhX"
      },
      "execution_count": null,
      "outputs": []
    },
    {
      "cell_type": "code",
      "source": [
        "print(a)"
      ],
      "metadata": {
        "colab": {
          "base_uri": "https://localhost:8080/"
        },
        "id": "ouptfvv5ELIl",
        "outputId": "f4b42cb7-a401-49d3-f871-284cd01acf5e"
      },
      "execution_count": null,
      "outputs": [
        {
          "output_type": "stream",
          "name": "stdout",
          "text": [
            "ajit\n"
          ]
        }
      ]
    },
    {
      "cell_type": "code",
      "source": [
        "type (a)"
      ],
      "metadata": {
        "colab": {
          "base_uri": "https://localhost:8080/"
        },
        "id": "rhbmt-ohEMis",
        "outputId": "f9d29b84-8087-42fe-d354-80f7ddbaea74"
      },
      "execution_count": null,
      "outputs": [
        {
          "output_type": "execute_result",
          "data": {
            "text/plain": [
              "str"
            ]
          },
          "metadata": {},
          "execution_count": 36
        }
      ]
    },
    {
      "cell_type": "code",
      "source": [
        "print(type(a))"
      ],
      "metadata": {
        "colab": {
          "base_uri": "https://localhost:8080/"
        },
        "id": "5yBZZ-OGEQsA",
        "outputId": "cabc3e5c-fd25-4a7c-fcf0-b0dbf0d98687"
      },
      "execution_count": null,
      "outputs": [
        {
          "output_type": "stream",
          "name": "stdout",
          "text": [
            "<class 'str'>\n"
          ]
        }
      ]
    },
    {
      "cell_type": "markdown",
      "source": [
        "#int"
      ],
      "metadata": {
        "id": "cfHBTNY0EZfI"
      }
    },
    {
      "cell_type": "code",
      "source": [
        "b = 454"
      ],
      "metadata": {
        "id": "5OgRmbNBESqx"
      },
      "execution_count": null,
      "outputs": []
    },
    {
      "cell_type": "code",
      "source": [
        "print(b)"
      ],
      "metadata": {
        "colab": {
          "base_uri": "https://localhost:8080/"
        },
        "id": "1VGDt8clEcuh",
        "outputId": "c5c1c965-bdf6-4fdf-fdc6-994027c1e932"
      },
      "execution_count": null,
      "outputs": [
        {
          "output_type": "stream",
          "name": "stdout",
          "text": [
            "454\n"
          ]
        }
      ]
    },
    {
      "cell_type": "code",
      "source": [
        "type(b)"
      ],
      "metadata": {
        "colab": {
          "base_uri": "https://localhost:8080/"
        },
        "id": "RpXINfA4Ee5J",
        "outputId": "dc4d7576-6854-4925-b791-73dc8a391b88"
      },
      "execution_count": null,
      "outputs": [
        {
          "output_type": "execute_result",
          "data": {
            "text/plain": [
              "int"
            ]
          },
          "metadata": {},
          "execution_count": 40
        }
      ]
    },
    {
      "cell_type": "code",
      "source": [
        "print(type(b))"
      ],
      "metadata": {
        "colab": {
          "base_uri": "https://localhost:8080/"
        },
        "id": "yYCHlrFUEhNc",
        "outputId": "35eb457a-9eb7-4bd0-f845-38cb552c5d26"
      },
      "execution_count": null,
      "outputs": [
        {
          "output_type": "stream",
          "name": "stdout",
          "text": [
            "<class 'int'>\n"
          ]
        }
      ]
    },
    {
      "cell_type": "markdown",
      "source": [
        "#flot"
      ],
      "metadata": {
        "id": "Ruu87_1WElvE"
      }
    },
    {
      "cell_type": "code",
      "source": [
        "c = 55.55\n"
      ],
      "metadata": {
        "id": "f2de0Qt9Ei4m"
      },
      "execution_count": null,
      "outputs": []
    },
    {
      "cell_type": "code",
      "source": [
        "print(c)"
      ],
      "metadata": {
        "colab": {
          "base_uri": "https://localhost:8080/"
        },
        "id": "wnyvTvz3Ep0Q",
        "outputId": "3034884c-291e-4962-dc91-a473ef58912c"
      },
      "execution_count": null,
      "outputs": [
        {
          "output_type": "stream",
          "name": "stdout",
          "text": [
            "55.55\n"
          ]
        }
      ]
    },
    {
      "cell_type": "code",
      "source": [
        "type(c)"
      ],
      "metadata": {
        "colab": {
          "base_uri": "https://localhost:8080/"
        },
        "id": "n1nWW7BpErRO",
        "outputId": "9b7c28fd-4516-4251-f306-eaa0a72b81bd"
      },
      "execution_count": null,
      "outputs": [
        {
          "output_type": "execute_result",
          "data": {
            "text/plain": [
              "float"
            ]
          },
          "metadata": {},
          "execution_count": 44
        }
      ]
    },
    {
      "cell_type": "code",
      "source": [
        "print(type(c))"
      ],
      "metadata": {
        "colab": {
          "base_uri": "https://localhost:8080/"
        },
        "id": "mSGLTzxoEtbe",
        "outputId": "33602bed-602b-444f-c155-e37fb6c41611"
      },
      "execution_count": null,
      "outputs": [
        {
          "output_type": "stream",
          "name": "stdout",
          "text": [
            "<class 'float'>\n"
          ]
        }
      ]
    },
    {
      "cell_type": "markdown",
      "source": [
        "#bool"
      ],
      "metadata": {
        "id": "d_ChaouMEww5"
      }
    },
    {
      "cell_type": "code",
      "source": [
        "d = True"
      ],
      "metadata": {
        "id": "wJUrkv8PEvhm"
      },
      "execution_count": null,
      "outputs": []
    },
    {
      "cell_type": "code",
      "source": [
        "print(d)"
      ],
      "metadata": {
        "colab": {
          "base_uri": "https://localhost:8080/"
        },
        "id": "qYwWBcLcE3CN",
        "outputId": "b5493cea-cabb-47c7-8446-9e9c8a82406f"
      },
      "execution_count": null,
      "outputs": [
        {
          "output_type": "stream",
          "name": "stdout",
          "text": [
            "True\n"
          ]
        }
      ]
    },
    {
      "cell_type": "code",
      "source": [
        "type(d)"
      ],
      "metadata": {
        "colab": {
          "base_uri": "https://localhost:8080/"
        },
        "id": "169b2-TUE4TS",
        "outputId": "50c5669c-5859-4d2d-dcde-15d47dba2871"
      },
      "execution_count": null,
      "outputs": [
        {
          "output_type": "execute_result",
          "data": {
            "text/plain": [
              "bool"
            ]
          },
          "metadata": {},
          "execution_count": 48
        }
      ]
    },
    {
      "cell_type": "code",
      "source": [
        "print(type(d))"
      ],
      "metadata": {
        "colab": {
          "base_uri": "https://localhost:8080/"
        },
        "id": "hYIlul-3E65f",
        "outputId": "49485430-c45f-46ac-9e4d-8ee95b4b89c0"
      },
      "execution_count": null,
      "outputs": [
        {
          "output_type": "stream",
          "name": "stdout",
          "text": [
            "<class 'bool'>\n"
          ]
        }
      ]
    },
    {
      "cell_type": "markdown",
      "source": [
        "#None"
      ],
      "metadata": {
        "id": "IKknB-mbE-NR"
      }
    },
    {
      "cell_type": "code",
      "source": [
        "e = None"
      ],
      "metadata": {
        "id": "WOW0JsHIE8aq"
      },
      "execution_count": null,
      "outputs": []
    },
    {
      "cell_type": "code",
      "source": [
        "print(e)"
      ],
      "metadata": {
        "colab": {
          "base_uri": "https://localhost:8080/"
        },
        "id": "_aCgzNQ1FEKF",
        "outputId": "701c2312-2e42-4f3c-851b-af08b42f8940"
      },
      "execution_count": null,
      "outputs": [
        {
          "output_type": "stream",
          "name": "stdout",
          "text": [
            "None\n"
          ]
        }
      ]
    },
    {
      "cell_type": "code",
      "source": [
        "type(e)"
      ],
      "metadata": {
        "colab": {
          "base_uri": "https://localhost:8080/"
        },
        "id": "tq0dlW0zFFrG",
        "outputId": "823b5fad-279c-49a6-e3c5-c4eb29eae8d2"
      },
      "execution_count": null,
      "outputs": [
        {
          "output_type": "execute_result",
          "data": {
            "text/plain": [
              "NoneType"
            ]
          },
          "metadata": {},
          "execution_count": 52
        }
      ]
    },
    {
      "cell_type": "code",
      "source": [
        "print(type(e))"
      ],
      "metadata": {
        "colab": {
          "base_uri": "https://localhost:8080/"
        },
        "id": "GN53Hu9LFIf_",
        "outputId": "c0ed0fdb-af05-40bc-9cb3-96535cfed77d"
      },
      "execution_count": null,
      "outputs": [
        {
          "output_type": "stream",
          "name": "stdout",
          "text": [
            "<class 'NoneType'>\n"
          ]
        }
      ]
    },
    {
      "cell_type": "markdown",
      "source": [
        "#arethamatic operator"
      ],
      "metadata": {
        "id": "c1BCzkg4GYyr"
      }
    },
    {
      "cell_type": "code",
      "source": [
        "#aretamatic operator\n",
        "a = 5\n",
        "b = 6"
      ],
      "metadata": {
        "id": "6UF1sqGBFKyf"
      },
      "execution_count": null,
      "outputs": []
    },
    {
      "cell_type": "code",
      "source": [
        "print(\"the value of a + b is \", 5+6)"
      ],
      "metadata": {
        "colab": {
          "base_uri": "https://localhost:8080/"
        },
        "id": "sFe-40TIGMEt",
        "outputId": "e5f18fda-728e-4d5e-80c4-b0c63d6e32ff"
      },
      "execution_count": null,
      "outputs": [
        {
          "output_type": "stream",
          "name": "stdout",
          "text": [
            "the value of a + b is  11\n"
          ]
        }
      ]
    },
    {
      "cell_type": "code",
      "source": [
        "ajit =66\n",
        "allu =66"
      ],
      "metadata": {
        "id": "QpO62c91GqaE"
      },
      "execution_count": null,
      "outputs": []
    },
    {
      "cell_type": "code",
      "source": [
        "print(\"the value of ajit and allu is\", ajit+allu)"
      ],
      "metadata": {
        "colab": {
          "base_uri": "https://localhost:8080/"
        },
        "id": "WONPIdN9G1CJ",
        "outputId": "aea5215c-2417-4677-a082-810872d40b74"
      },
      "execution_count": null,
      "outputs": [
        {
          "output_type": "stream",
          "name": "stdout",
          "text": [
            "the value of ajit and allu is 132\n"
          ]
        }
      ]
    },
    {
      "cell_type": "code",
      "source": [
        "print(\"the value of ajit and allu is\", ajit*allu)\n"
      ],
      "metadata": {
        "colab": {
          "base_uri": "https://localhost:8080/"
        },
        "id": "gTW4ERBpG7VB",
        "outputId": "313e66f9-c53a-4f9d-b14d-84edc879176a"
      },
      "execution_count": null,
      "outputs": [
        {
          "output_type": "stream",
          "name": "stdout",
          "text": [
            "the value of ajit and allu is 4356\n"
          ]
        }
      ]
    },
    {
      "cell_type": "code",
      "source": [
        "print(\"the value of ajit and allu is\", ajit-allu)\n"
      ],
      "metadata": {
        "colab": {
          "base_uri": "https://localhost:8080/"
        },
        "id": "EKqPnqHfHP7W",
        "outputId": "c2052164-e650-47f0-e459-925de18bcc0c"
      },
      "execution_count": null,
      "outputs": [
        {
          "output_type": "stream",
          "name": "stdout",
          "text": [
            "the value of ajit and allu is 0\n"
          ]
        }
      ]
    },
    {
      "cell_type": "code",
      "source": [
        "print(\"the value of ajit and allu is\", ajit/allu)\n"
      ],
      "metadata": {
        "colab": {
          "base_uri": "https://localhost:8080/"
        },
        "id": "wd0ek9HIHSVL",
        "outputId": "b33a4f9c-6d4c-41db-d765-69223f4ea8ff"
      },
      "execution_count": null,
      "outputs": [
        {
          "output_type": "stream",
          "name": "stdout",
          "text": [
            "the value of ajit and allu is 1.0\n"
          ]
        }
      ]
    },
    {
      "cell_type": "markdown",
      "source": [
        "#assigenment operator"
      ],
      "metadata": {
        "id": "gCuLiE-MHXGa"
      }
    },
    {
      "cell_type": "code",
      "source": [
        "a = 5\n",
        "a += 4\n",
        "a -= 2\n",
        "a *=2\n",
        "a /=2"
      ],
      "metadata": {
        "id": "Olaye3e-HWN-"
      },
      "execution_count": null,
      "outputs": []
    },
    {
      "cell_type": "code",
      "source": [
        "print(a)"
      ],
      "metadata": {
        "colab": {
          "base_uri": "https://localhost:8080/"
        },
        "id": "5x1pC4DBHhC2",
        "outputId": "033a9617-1544-4b7d-df7d-41f7c32fd2b9"
      },
      "execution_count": null,
      "outputs": [
        {
          "output_type": "stream",
          "name": "stdout",
          "text": [
            "7.0\n"
          ]
        }
      ]
    },
    {
      "cell_type": "markdown",
      "source": [
        "#comparison operator"
      ],
      "metadata": {
        "id": "dOC6lbRhIRdF"
      }
    },
    {
      "cell_type": "code",
      "source": [
        " b = (14>7)"
      ],
      "metadata": {
        "id": "-OCl4uXjIQVN"
      },
      "execution_count": null,
      "outputs": []
    },
    {
      "cell_type": "code",
      "source": [
        "print(b)"
      ],
      "metadata": {
        "colab": {
          "base_uri": "https://localhost:8080/"
        },
        "id": "xKBpwlw3Io3V",
        "outputId": "cfd071a4-3dd9-4fbd-b631-0d3dbd83481f"
      },
      "execution_count": null,
      "outputs": [
        {
          "output_type": "stream",
          "name": "stdout",
          "text": [
            "True\n"
          ]
        }
      ]
    },
    {
      "cell_type": "code",
      "source": [
        " c = (14<7)\n",
        "print(c)"
      ],
      "metadata": {
        "colab": {
          "base_uri": "https://localhost:8080/"
        },
        "id": "iX5bIYPgHiPX",
        "outputId": "bfbd3855-928f-4033-e2f7-877e4b14840a"
      },
      "execution_count": null,
      "outputs": [
        {
          "output_type": "stream",
          "name": "stdout",
          "text": [
            "False\n"
          ]
        }
      ]
    },
    {
      "cell_type": "code",
      "source": [
        " d = (14>=7)\n",
        "print(d)"
      ],
      "metadata": {
        "colab": {
          "base_uri": "https://localhost:8080/"
        },
        "id": "4-NTPbYQIbsE",
        "outputId": "56a654e0-c68a-49eb-ac14-9fd3e6437cd7"
      },
      "execution_count": null,
      "outputs": [
        {
          "output_type": "stream",
          "name": "stdout",
          "text": [
            "True\n"
          ]
        }
      ]
    },
    {
      "cell_type": "code",
      "source": [
        " b = (14<=7)\n",
        "print(b)"
      ],
      "metadata": {
        "colab": {
          "base_uri": "https://localhost:8080/"
        },
        "id": "quLHY5YIIc4p",
        "outputId": "84234ed5-6183-4396-d098-0cdb7e208df9"
      },
      "execution_count": null,
      "outputs": [
        {
          "output_type": "stream",
          "name": "stdout",
          "text": [
            "False\n"
          ]
        }
      ]
    },
    {
      "cell_type": "code",
      "source": [
        " b = (14==7)\n",
        "print(b)"
      ],
      "metadata": {
        "colab": {
          "base_uri": "https://localhost:8080/"
        },
        "id": "fmqxnNsbId02",
        "outputId": "ce8b446b-2951-4270-ef31-17b19a1bdee3"
      },
      "execution_count": null,
      "outputs": [
        {
          "output_type": "stream",
          "name": "stdout",
          "text": [
            "False\n"
          ]
        }
      ]
    },
    {
      "cell_type": "code",
      "source": [
        "b = (14!= 7) \n",
        "print(b)"
      ],
      "metadata": {
        "colab": {
          "base_uri": "https://localhost:8080/"
        },
        "id": "5CxA1_abI2Ls",
        "outputId": "273f7ab0-8c1e-44d3-8d40-dae7333bbf38"
      },
      "execution_count": null,
      "outputs": [
        {
          "output_type": "stream",
          "name": "stdout",
          "text": [
            "True\n"
          ]
        }
      ]
    },
    {
      "cell_type": "markdown",
      "source": [
        "#logical operator"
      ],
      "metadata": {
        "id": "TlevzNsCJLon"
      }
    },
    {
      "cell_type": "code",
      "source": [
        "bool1 = True\n",
        "bool2 = False"
      ],
      "metadata": {
        "id": "KjEu0PsNJH58"
      },
      "execution_count": null,
      "outputs": []
    },
    {
      "cell_type": "code",
      "source": [
        "print(\"the value of bool1 and bool 2 is \",bool1 and bool2)"
      ],
      "metadata": {
        "colab": {
          "base_uri": "https://localhost:8080/"
        },
        "id": "w6IDzMrMJV6q",
        "outputId": "4fdbb8ec-b155-4548-ef1c-39eb6cc07a3b"
      },
      "execution_count": null,
      "outputs": [
        {
          "output_type": "stream",
          "name": "stdout",
          "text": [
            "the value of bool1 and bool 2 is  False\n"
          ]
        }
      ]
    },
    {
      "cell_type": "code",
      "source": [
        "print(\"the value of bool1 and bool 2 is \",bool1 or bool2)\n"
      ],
      "metadata": {
        "colab": {
          "base_uri": "https://localhost:8080/"
        },
        "id": "TxRfKtiAJh4v",
        "outputId": "8507ff86-10a9-4c7d-c31f-aca5e2e812ff"
      },
      "execution_count": null,
      "outputs": [
        {
          "output_type": "stream",
          "name": "stdout",
          "text": [
            "the value of bool1 and bool 2 is  True\n"
          ]
        }
      ]
    },
    {
      "cell_type": "code",
      "source": [
        "print(\"the value of bool1 and bool 2 is \", not bool2)\n"
      ],
      "metadata": {
        "colab": {
          "base_uri": "https://localhost:8080/"
        },
        "id": "cKlyujCtJnzi",
        "outputId": "6b26b33a-f95c-41f9-eaa9-94e6967fd6ce"
      },
      "execution_count": null,
      "outputs": [
        {
          "output_type": "stream",
          "name": "stdout",
          "text": [
            "the value of bool1 and bool 2 is  True\n"
          ]
        }
      ]
    },
    {
      "cell_type": "markdown",
      "source": [
        "#type casting"
      ],
      "metadata": {
        "id": "1WfTp93nKJJX"
      }
    },
    {
      "cell_type": "markdown",
      "source": [
        "by type casting we change the tpye of variable containg value"
      ],
      "metadata": {
        "id": "CrdhXGuxLiSo"
      }
    },
    {
      "cell_type": "code",
      "source": [
        "a =\"567\""
      ],
      "metadata": {
        "id": "9lhqNZiLLHc3"
      },
      "execution_count": null,
      "outputs": []
    },
    {
      "cell_type": "code",
      "source": [
        "print(type(a))"
      ],
      "metadata": {
        "colab": {
          "base_uri": "https://localhost:8080/"
        },
        "id": "ffbmqdzmLKlK",
        "outputId": "fc7b1a12-4aff-47d6-cbb5-8e0f779865a7"
      },
      "execution_count": null,
      "outputs": [
        {
          "output_type": "stream",
          "name": "stdout",
          "text": [
            "<class 'str'>\n"
          ]
        }
      ]
    },
    {
      "cell_type": "code",
      "source": [
        "b = int(a)"
      ],
      "metadata": {
        "id": "3G16dFhILNUK"
      },
      "execution_count": null,
      "outputs": []
    },
    {
      "cell_type": "code",
      "source": [
        "print(b)"
      ],
      "metadata": {
        "colab": {
          "base_uri": "https://localhost:8080/"
        },
        "id": "ZPsMiF7BLRsx",
        "outputId": "407c1e58-f546-45ec-99cc-75dc2ed4e584"
      },
      "execution_count": null,
      "outputs": [
        {
          "output_type": "stream",
          "name": "stdout",
          "text": [
            "567\n"
          ]
        }
      ]
    },
    {
      "cell_type": "code",
      "source": [
        "print(type(b))"
      ],
      "metadata": {
        "colab": {
          "base_uri": "https://localhost:8080/"
        },
        "id": "RYUFAaxkLUMl",
        "outputId": "bdd26445-57a6-48c0-9879-19054fdaec5e"
      },
      "execution_count": null,
      "outputs": [
        {
          "output_type": "stream",
          "name": "stdout",
          "text": [
            "<class 'int'>\n"
          ]
        }
      ]
    },
    {
      "cell_type": "code",
      "source": [
        "#another example\n",
        "\n",
        "\n",
        "\n",
        "\n",
        "a =str(31)"
      ],
      "metadata": {
        "id": "JmJhgQZzK-86"
      },
      "execution_count": null,
      "outputs": []
    },
    {
      "cell_type": "code",
      "source": [
        "int(\"32\")"
      ],
      "metadata": {
        "colab": {
          "base_uri": "https://localhost:8080/"
        },
        "id": "Kw4yPRLqMUgi",
        "outputId": "5ba00c6e-43d5-41fd-d207-b9a44f402e09"
      },
      "execution_count": null,
      "outputs": [
        {
          "output_type": "execute_result",
          "data": {
            "text/plain": [
              "32"
            ]
          },
          "metadata": {},
          "execution_count": 105
        }
      ]
    },
    {
      "cell_type": "code",
      "source": [
        "float(32)"
      ],
      "metadata": {
        "colab": {
          "base_uri": "https://localhost:8080/"
        },
        "id": "KXRll-A-MfT2",
        "outputId": "3daea49f-af69-4d8a-d711-970531f793bb"
      },
      "execution_count": null,
      "outputs": [
        {
          "output_type": "execute_result",
          "data": {
            "text/plain": [
              "32.0"
            ]
          },
          "metadata": {},
          "execution_count": 107
        }
      ]
    },
    {
      "cell_type": "code",
      "source": [
        "int(32.556455454)"
      ],
      "metadata": {
        "colab": {
          "base_uri": "https://localhost:8080/"
        },
        "id": "3k2qv46mMiWh",
        "outputId": "18205393-407c-4926-a059-5963936565ce"
      },
      "execution_count": null,
      "outputs": [
        {
          "output_type": "execute_result",
          "data": {
            "text/plain": [
              "32"
            ]
          },
          "metadata": {},
          "execution_count": 108
        }
      ]
    },
    {
      "cell_type": "markdown",
      "source": [
        "#input function"
      ],
      "metadata": {
        "id": "NX9Fyn9WM4Z7"
      }
    },
    {
      "cell_type": "code",
      "source": [
        "a = input(\"enter you name\\n\")\n"
      ],
      "metadata": {
        "colab": {
          "base_uri": "https://localhost:8080/"
        },
        "id": "ESwbc7MLMozv",
        "outputId": "75a3753d-c4fc-4d0f-a52b-2e20be8b75b8"
      },
      "execution_count": null,
      "outputs": [
        {
          "name": "stdout",
          "output_type": "stream",
          "text": [
            "enter you name\n",
            "45\n"
          ]
        }
      ]
    },
    {
      "cell_type": "code",
      "source": [
        "print(\"your name is\\n\", a)"
      ],
      "metadata": {
        "colab": {
          "base_uri": "https://localhost:8080/"
        },
        "id": "1M_2NfDHNIIq",
        "outputId": "50064bcf-7836-45f2-a85d-2435c877cc47"
      },
      "execution_count": null,
      "outputs": [
        {
          "output_type": "stream",
          "name": "stdout",
          "text": [
            "your name is\n",
            " 45\n"
          ]
        }
      ]
    },
    {
      "cell_type": "code",
      "source": [
        "type(a)"
      ],
      "metadata": {
        "colab": {
          "base_uri": "https://localhost:8080/"
        },
        "id": "YS1cg6m6NP9o",
        "outputId": "c3473f97-1844-458c-c27e-c2728cb471c9"
      },
      "execution_count": null,
      "outputs": [
        {
          "output_type": "execute_result",
          "data": {
            "text/plain": [
              "str"
            ]
          },
          "metadata": {},
          "execution_count": 128
        }
      ]
    },
    {
      "cell_type": "code",
      "source": [
        "#another example\n",
        "\n",
        "\n",
        "\n",
        "\n",
        "\n",
        "\n",
        "a = input(\"enter your lucky no\")"
      ],
      "metadata": {
        "colab": {
          "base_uri": "https://localhost:8080/"
        },
        "id": "kH90UHU_NodP",
        "outputId": "1813e1fa-57d8-47aa-fb32-9adb1859a394"
      },
      "execution_count": null,
      "outputs": [
        {
          "name": "stdout",
          "output_type": "stream",
          "text": [
            "enter your lucky no45.25\n"
          ]
        }
      ]
    },
    {
      "cell_type": "code",
      "source": [
        "type(a)"
      ],
      "metadata": {
        "colab": {
          "base_uri": "https://localhost:8080/"
        },
        "id": "NcS0Zn1sOWsG",
        "outputId": "4642112e-9749-4021-9244-3885112265e1"
      },
      "execution_count": null,
      "outputs": [
        {
          "output_type": "execute_result",
          "data": {
            "text/plain": [
              "str"
            ]
          },
          "metadata": {},
          "execution_count": 169
        }
      ]
    },
    {
      "cell_type": "code",
      "source": [
        "a"
      ],
      "metadata": {
        "colab": {
          "base_uri": "https://localhost:8080/",
          "height": 35
        },
        "id": "83NAQW-0OVRa",
        "outputId": "27eda13f-4881-49f6-cacf-506f4a2c3837"
      },
      "execution_count": null,
      "outputs": [
        {
          "output_type": "execute_result",
          "data": {
            "application/vnd.google.colaboratory.intrinsic+json": {
              "type": "string"
            },
            "text/plain": [
              "'45.25'"
            ]
          },
          "metadata": {},
          "execution_count": 170
        }
      ]
    },
    {
      "cell_type": "code",
      "source": [
        "print(int(a))"
      ],
      "metadata": {
        "colab": {
          "base_uri": "https://localhost:8080/",
          "height": 165
        },
        "id": "pUNgr45VO4bv",
        "outputId": "96070532-91f7-4729-91a5-233deadd5b1a"
      },
      "execution_count": null,
      "outputs": [
        {
          "output_type": "error",
          "ename": "ValueError",
          "evalue": "ignored",
          "traceback": [
            "\u001b[0;31m---------------------------------------------------------------------------\u001b[0m",
            "\u001b[0;31mValueError\u001b[0m                                Traceback (most recent call last)",
            "\u001b[0;32m<ipython-input-171-c783ea792008>\u001b[0m in \u001b[0;36m<module>\u001b[0;34m()\u001b[0m\n\u001b[0;32m----> 1\u001b[0;31m \u001b[0mprint\u001b[0m\u001b[0;34m(\u001b[0m\u001b[0mint\u001b[0m\u001b[0;34m(\u001b[0m\u001b[0ma\u001b[0m\u001b[0;34m)\u001b[0m\u001b[0;34m)\u001b[0m\u001b[0;34m\u001b[0m\u001b[0;34m\u001b[0m\u001b[0m\n\u001b[0m",
            "\u001b[0;31mValueError\u001b[0m: invalid literal for int() with base 10: '45.25'"
          ]
        }
      ]
    },
    {
      "cell_type": "markdown",
      "source": [
        "#assigenment of variable and data type"
      ],
      "metadata": {
        "id": "KMpshNkMQXMD"
      }
    },
    {
      "cell_type": "code",
      "source": [
        "# write a python program to add 2 no"
      ],
      "metadata": {
        "id": "U4Dwnd3NPS_Z"
      },
      "execution_count": null,
      "outputs": []
    },
    {
      "cell_type": "code",
      "source": [
        "a = 5\n",
        "b = 6"
      ],
      "metadata": {
        "id": "0mjrsbKNQpXx"
      },
      "execution_count": null,
      "outputs": []
    },
    {
      "cell_type": "code",
      "source": [
        "print(\"the sum of a and b is\", a+b)"
      ],
      "metadata": {
        "colab": {
          "base_uri": "https://localhost:8080/"
        },
        "id": "X2Aqj-VNQteF",
        "outputId": "682ea68a-c765-4a46-e184-12d6da836a9e"
      },
      "execution_count": null,
      "outputs": [
        {
          "output_type": "stream",
          "name": "stdout",
          "text": [
            "the sum of a and b is 11\n"
          ]
        }
      ]
    },
    {
      "cell_type": "code",
      "source": [
        ""
      ],
      "metadata": {
        "id": "D8Wb8_EGQ0AH"
      },
      "execution_count": null,
      "outputs": []
    },
    {
      "cell_type": "code",
      "source": [
        ""
      ],
      "metadata": {
        "id": "yrkUcxlDQ3Xf"
      },
      "execution_count": null,
      "outputs": []
    },
    {
      "cell_type": "code",
      "source": [
        "# write a program to find the reminder when a number is devided by 2 (modulus operator)"
      ],
      "metadata": {
        "id": "S53DgHr7Q4dY"
      },
      "execution_count": null,
      "outputs": []
    },
    {
      "cell_type": "code",
      "source": [
        "a = 45\n",
        "b = 15\n"
      ],
      "metadata": {
        "id": "fQhrP17HQ4Wx"
      },
      "execution_count": null,
      "outputs": []
    },
    {
      "cell_type": "code",
      "source": [
        "print(\"the reminder when a is devide by b is\", a%b)"
      ],
      "metadata": {
        "colab": {
          "base_uri": "https://localhost:8080/"
        },
        "id": "lxow-2_rRahd",
        "outputId": "3ba22661-04c9-4afa-e42a-a6ac8b0b45fa"
      },
      "execution_count": null,
      "outputs": [
        {
          "output_type": "stream",
          "name": "stdout",
          "text": [
            "the reminder when a is devide by b is 0\n"
          ]
        }
      ]
    },
    {
      "cell_type": "code",
      "source": [
        ""
      ],
      "metadata": {
        "id": "0JKM2WAaRjFz"
      },
      "execution_count": null,
      "outputs": []
    },
    {
      "cell_type": "code",
      "source": [
        ""
      ],
      "metadata": {
        "id": "qVYxBc-IRp6n"
      },
      "execution_count": null,
      "outputs": []
    },
    {
      "cell_type": "code",
      "source": [
        "# check the type of variable asigen using input() function"
      ],
      "metadata": {
        "id": "Fh5nE8_uRqpw"
      },
      "execution_count": null,
      "outputs": []
    },
    {
      "cell_type": "code",
      "source": [
        "a = input(\"anything\")"
      ],
      "metadata": {
        "colab": {
          "base_uri": "https://localhost:8080/"
        },
        "id": "-cz94uPzR2qi",
        "outputId": "04c069c7-de04-41c8-f537-c8ecd14c7ba4"
      },
      "execution_count": null,
      "outputs": [
        {
          "name": "stdout",
          "output_type": "stream",
          "text": [
            "anything45\n"
          ]
        }
      ]
    },
    {
      "cell_type": "code",
      "source": [
        "type (a)"
      ],
      "metadata": {
        "colab": {
          "base_uri": "https://localhost:8080/"
        },
        "id": "K11iDVtiR6qJ",
        "outputId": "c104aafd-8abe-4a39-a2a9-b2d76d2ad729"
      },
      "execution_count": null,
      "outputs": [
        {
          "output_type": "execute_result",
          "data": {
            "text/plain": [
              "str"
            ]
          },
          "metadata": {},
          "execution_count": 180
        }
      ]
    },
    {
      "cell_type": "code",
      "source": [
        ""
      ],
      "metadata": {
        "id": "jOJGJh6UR9qc"
      },
      "execution_count": null,
      "outputs": []
    },
    {
      "cell_type": "code",
      "source": [
        ""
      ],
      "metadata": {
        "id": "q7nxVEKOSU2i"
      },
      "execution_count": null,
      "outputs": []
    },
    {
      "cell_type": "code",
      "source": [
        "# write a python progrming to find out wheater a given variable is grater the b or not\n",
        "# take a = 34 , b= 80"
      ],
      "metadata": {
        "id": "lzePzmHuSVRf"
      },
      "execution_count": null,
      "outputs": []
    },
    {
      "cell_type": "code",
      "source": [
        "a = 34\n",
        "b = 80"
      ],
      "metadata": {
        "id": "sAplMp-VSkZH"
      },
      "execution_count": null,
      "outputs": []
    },
    {
      "cell_type": "code",
      "source": [
        "a > b"
      ],
      "metadata": {
        "colab": {
          "base_uri": "https://localhost:8080/"
        },
        "id": "0R2ULX9USvKn",
        "outputId": "6eaf33cc-d37b-4b9b-f0f2-ec77cb7e1e3b"
      },
      "execution_count": null,
      "outputs": [
        {
          "output_type": "execute_result",
          "data": {
            "text/plain": [
              "False"
            ]
          },
          "metadata": {},
          "execution_count": 183
        }
      ]
    },
    {
      "cell_type": "code",
      "source": [
        "\n",
        "# hear the a is not grater then b so its give me false"
      ],
      "metadata": {
        "id": "j3DGLbr1Sw56"
      },
      "execution_count": null,
      "outputs": []
    },
    {
      "cell_type": "code",
      "source": [
        ""
      ],
      "metadata": {
        "id": "rG1UwgXXS6M6"
      },
      "execution_count": null,
      "outputs": []
    },
    {
      "cell_type": "code",
      "source": [
        "#writ a program to find the average of two no entered by the user"
      ],
      "metadata": {
        "id": "F4s5NuCAS6lH"
      },
      "execution_count": null,
      "outputs": []
    },
    {
      "cell_type": "code",
      "source": [
        "a = int(input(\"1st no\"))"
      ],
      "metadata": {
        "colab": {
          "base_uri": "https://localhost:8080/"
        },
        "id": "eMChDr22TjDf",
        "outputId": "61a99fbd-ec67-44c6-d8fd-34e82099f2b5"
      },
      "execution_count": null,
      "outputs": [
        {
          "name": "stdout",
          "output_type": "stream",
          "text": [
            "1st no56\n"
          ]
        }
      ]
    },
    {
      "cell_type": "code",
      "source": [
        "b = int(input(\"2nd no\"))"
      ],
      "metadata": {
        "colab": {
          "base_uri": "https://localhost:8080/"
        },
        "id": "r2Ehd1DGTow3",
        "outputId": "60f8102a-f19f-4f32-f655-2829539b28d1"
      },
      "execution_count": null,
      "outputs": [
        {
          "name": "stdout",
          "output_type": "stream",
          "text": [
            "2nd no12\n"
          ]
        }
      ]
    },
    {
      "cell_type": "code",
      "source": [
        "avg = (a+b)/2"
      ],
      "metadata": {
        "id": "l4kUDfXLTuw6"
      },
      "execution_count": null,
      "outputs": []
    },
    {
      "cell_type": "code",
      "source": [
        "print(\"the value of average of a nad b is \", avg )"
      ],
      "metadata": {
        "colab": {
          "base_uri": "https://localhost:8080/"
        },
        "id": "px-ODu-yT74a",
        "outputId": "23df71e1-b818-4f43-c911-6af0f8e097cb"
      },
      "execution_count": null,
      "outputs": [
        {
          "output_type": "stream",
          "name": "stdout",
          "text": [
            "the value of average of a nad b is  34.0\n"
          ]
        }
      ]
    },
    {
      "cell_type": "code",
      "source": [
        " "
      ],
      "metadata": {
        "id": "TuUjqhmeUrju"
      },
      "execution_count": null,
      "outputs": []
    },
    {
      "cell_type": "code",
      "source": [
        ""
      ],
      "metadata": {
        "id": "OHX4ULr9U3By"
      },
      "execution_count": null,
      "outputs": []
    },
    {
      "cell_type": "code",
      "source": [
        "#write  a python program to calculate the squred of a no inter by the user"
      ],
      "metadata": {
        "id": "G30OdESGU3bf"
      },
      "execution_count": null,
      "outputs": []
    },
    {
      "cell_type": "code",
      "source": [
        "a = int(input(\"enter your no to find the squre :\"))"
      ],
      "metadata": {
        "colab": {
          "base_uri": "https://localhost:8080/"
        },
        "id": "BfDAT5L3VBPJ",
        "outputId": "8351e3f4-cc08-4920-e234-258d75b9e022"
      },
      "execution_count": null,
      "outputs": [
        {
          "name": "stdout",
          "output_type": "stream",
          "text": [
            "enter your no to find the squre :5\n"
          ]
        }
      ]
    },
    {
      "cell_type": "code",
      "source": [
        "squ = a**2"
      ],
      "metadata": {
        "id": "z_C_ReivVIdC"
      },
      "execution_count": null,
      "outputs": []
    },
    {
      "cell_type": "code",
      "source": [
        "print(squ)"
      ],
      "metadata": {
        "colab": {
          "base_uri": "https://localhost:8080/"
        },
        "id": "_WxXIKCSVRGr",
        "outputId": "943e2d27-9ab5-4c9a-8a50-90bef78891d3"
      },
      "execution_count": null,
      "outputs": [
        {
          "output_type": "stream",
          "name": "stdout",
          "text": [
            "25\n"
          ]
        }
      ]
    },
    {
      "cell_type": "code",
      "source": [
        ""
      ],
      "metadata": {
        "id": "XHMaenpDVTLr"
      },
      "execution_count": null,
      "outputs": []
    }
  ]
}