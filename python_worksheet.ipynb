{
  "nbformat": 4,
  "nbformat_minor": 0,
  "metadata": {
    "colab": {
      "name": "python worksheet.ipynb",
      "provenance": [],
      "authorship_tag": "ABX9TyMwM4jdzIUIeR2e1toRv0OE",
      "include_colab_link": true
    },
    "kernelspec": {
      "name": "python3",
      "display_name": "Python 3"
    },
    "language_info": {
      "name": "python"
    }
  },
  "cells": [
    {
      "cell_type": "markdown",
      "metadata": {
        "id": "view-in-github",
        "colab_type": "text"
      },
      "source": [
        "<a href=\"https://colab.research.google.com/github/ajit04022000/python_begginers_codewith_ajit/blob/main/python_worksheet.ipynb\" target=\"_parent\"><img src=\"https://colab.research.google.com/assets/colab-badge.svg\" alt=\"Open In Colab\"/></a>"
      ]
    },
    {
      "cell_type": "markdown",
      "source": [
        "11. Write a python program to find the factorial of a number."
      ],
      "metadata": {
        "id": "S6nCgTZTOjYM"
      }
    },
    {
      "cell_type": "code",
      "source": [
        "import math as m\n",
        "m.factorial(5)"
      ],
      "metadata": {
        "colab": {
          "base_uri": "https://localhost:8080/"
        },
        "id": "CBFpz-mDN1v-",
        "outputId": "2c83e615-637a-480a-d6d9-fce834b64562"
      },
      "execution_count": 4,
      "outputs": [
        {
          "output_type": "execute_result",
          "data": {
            "text/plain": [
              "120"
            ]
          },
          "metadata": {},
          "execution_count": 4
        }
      ]
    },
    {
      "cell_type": "markdown",
      "source": [
        "##or"
      ],
      "metadata": {
        "id": "Ea9qrijgOqrS"
      }
    },
    {
      "cell_type": "code",
      "source": [
        "x=int(input(\"enter the number=\"))\n",
        "    \n",
        "if x<0:\n",
        "    print(\"factorial is availbale for positive intergers only\")\n",
        "    print(x ,\"is not a positive integer \")\n",
        "elif x==0 or x==1:\n",
        "    print(\"factorial of \",x,\"is\",1)\n",
        "else:\n",
        "     print (\"factorial of\",x,\"is\",m.factorial(x))"
      ],
      "metadata": {
        "colab": {
          "base_uri": "https://localhost:8080/"
        },
        "id": "Ei2GWT1NOlrQ",
        "outputId": "f62c34b3-06dc-46b0-ff66-8afaf95afd20"
      },
      "execution_count": 7,
      "outputs": [
        {
          "output_type": "stream",
          "name": "stdout",
          "text": [
            "enter the number=555\n",
            "factorial of 555 is 661408560927794670909833167124276990212353194561078966630610091508066518398462938708570165931453818774346806677937487622941296716409901122180791183381615199180133649323135568584492485536333258769584469786383591661922104266566863913614070698138881545530808522346156055053115762262612679476256481322688203567171111038254916285768948868390683387427561794062346854491689633073215348773710363218016157511181863057926134577070731221701301152592821760868454925199903505386017787199554004695300736714548162986647886019771379144075642172619449355885906311490931562018599832173006150698910081357711177369686310362939324425024584999311539904643730800189147272918915911770251276375152459026027462464002063813902395684537655374791000270699823191370607631655257869634515506590089013974314269381678319888713892407305906053693865079154285101747723299382026182512365914527438847783156831674629869733219475045947728356608604070725171727115599864469722301348700056888092787342824689113236014679770929700834913475709726807511726110607658874785711823552896770088837953463376048502815279955957922924689302538415337162205637471098765281762231617571867644711936978426265600000000000000000000000000000000000000000000000000000000000000000000000000000000000000000000000000000000000000000000000000000000000000000\n"
          ]
        }
      ]
    },
    {
      "cell_type": "markdown",
      "source": [
        "12. Write a python program to find whether a number is prime or composite."
      ],
      "metadata": {
        "id": "ARxa7qN2Owp7"
      }
    },
    {
      "cell_type": "code",
      "source": [
        "# Python program to check if\n",
        "# given number is prime or not\n",
        " \n",
        "number=int(input(\"enter the number:\"))\n",
        " \n",
        "if number > 1:\n",
        " \n",
        "    #a number can be divisible by half of it i.e n/2 orless than that so \n",
        "    for i in range(2, int(number/2)+1):\n",
        "        \n",
        "         # If num is divisible by any number between 2 and n / 2, it is not prime\n",
        "        if (number % i) == 0:\n",
        "            print(number, \"is not a prime number\")\n",
        "            break\n",
        "    else:\n",
        "        print(number,\"is a prime number\" )\n",
        "else:\n",
        "    print(number, \"is less than 0 , it can not be a prime number \")"
      ],
      "metadata": {
        "colab": {
          "base_uri": "https://localhost:8080/"
        },
        "id": "7DyTt2JTOwL_",
        "outputId": "8bb29670-a008-4c7e-d49c-4a8e4c793e46"
      },
      "execution_count": 8,
      "outputs": [
        {
          "output_type": "stream",
          "name": "stdout",
          "text": [
            "enter the number:5\n",
            "5 is a prime number\n"
          ]
        }
      ]
    },
    {
      "cell_type": "code",
      "source": [
        "# Program to check if a string is palindrome or not\n",
        "def pelin() :\n",
        "    string = input(\"write the string :\")\n",
        "    string = string.casefold()\n",
        "    rev_string = reversed(string)# reversing  the string\n",
        "    if list(string) == list(rev_string):\n",
        "        print('\"',string,'\"', \"is a pelindrom string\")\n",
        "    else:\n",
        "        print('\"',string,'\"',\"is not a pelindrom string\" )\n",
        "\n",
        "pelin ()"
      ],
      "metadata": {
        "colab": {
          "base_uri": "https://localhost:8080/"
        },
        "id": "nxIjCwjLPDgL",
        "outputId": "c6a35dea-76df-4578-f293-ac6d90bd9ae8"
      },
      "execution_count": 9,
      "outputs": [
        {
          "output_type": "stream",
          "name": "stdout",
          "text": [
            "write the string :5\n",
            "\" 5 \" is a pelindrom string\n"
          ]
        }
      ]
    },
    {
      "cell_type": "code",
      "source": [
        "#hypotenuse=a²+b²=c²----Reference \n",
        "\n",
        "def _3rd_side():\n",
        "    side_one =int(input(\" the 1st side is of \"))\n",
        "    side_two =int(input(\" the 2nd side is of \"))\n",
        "    hyp= side_one**2+side_two**2\n",
        "    side_three =m.sqrt(hyp)\n",
        "    print (\"3rd side of traingle is of\",side_three)\n",
        "    return round(side_three,2)\n",
        "\n",
        "_3rd_side() "
      ],
      "metadata": {
        "colab": {
          "base_uri": "https://localhost:8080/"
        },
        "id": "brN5q1gCPG3X",
        "outputId": "c5348ec2-d8b7-4084-ee08-b4d5d996b84a"
      },
      "execution_count": 10,
      "outputs": [
        {
          "output_type": "stream",
          "name": "stdout",
          "text": [
            " the 1st side is of 5\n",
            " the 2nd side is of 5\n",
            "3rd side of traingle is of 7.0710678118654755\n"
          ]
        },
        {
          "output_type": "execute_result",
          "data": {
            "text/plain": [
              "7.07"
            ]
          },
          "metadata": {},
          "execution_count": 10
        }
      ]
    },
    {
      "cell_type": "code",
      "source": [
        "Alpha = \"abcdefghijklmnopqrstuvwxyz\" #alphabets for sampling \n",
        "new_string = \"data science internship  \"\n",
        "\n",
        "for char in Alpha:\n",
        "    count = new_string.count(char)\n",
        "    if count > 0:\n",
        "        print (char, count)\n",
        "    if count>1:\n",
        "        print(char, \"is repeating \",count,\"times \")"
      ],
      "metadata": {
        "colab": {
          "base_uri": "https://localhost:8080/"
        },
        "id": "2WEEtL9DPKrh",
        "outputId": "e8e0cfae-0089-4d62-f4f4-c73d888221ab"
      },
      "execution_count": 11,
      "outputs": [
        {
          "output_type": "stream",
          "name": "stdout",
          "text": [
            "a 2\n",
            "a is repeating  2 times \n",
            "c 2\n",
            "c is repeating  2 times \n",
            "d 1\n",
            "e 3\n",
            "e is repeating  3 times \n",
            "h 1\n",
            "i 3\n",
            "i is repeating  3 times \n",
            "n 3\n",
            "n is repeating  3 times \n",
            "p 1\n",
            "r 1\n",
            "s 2\n",
            "s is repeating  2 times \n",
            "t 2\n",
            "t is repeating  2 times \n"
          ]
        }
      ]
    },
    {
      "cell_type": "code",
      "source": [
        ""
      ],
      "metadata": {
        "id": "UI5536-7PQcy"
      },
      "execution_count": null,
      "outputs": []
    }
  ]
}